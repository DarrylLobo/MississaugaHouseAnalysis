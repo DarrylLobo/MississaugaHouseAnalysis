{
 "cells": [
  {
   "cell_type": "markdown",
   "metadata": {},
   "source": [
    "# House Extractor"
   ]
  },
  {
   "cell_type": "code",
   "execution_count": 26,
   "metadata": {},
   "outputs": [],
   "source": [
    "from bs4 import BeautifulSoup\n",
    "import requests\n",
    "import csv\n",
    "import os\n",
    "import pandas as pd\n",
    "import shutil"
   ]
  },
  {
   "cell_type": "code",
   "execution_count": 17,
   "metadata": {},
   "outputs": [],
   "source": [
    "# to be clean creating a python \"switch\" statement:\n",
    "\n",
    "def switch_unlabeledFields(args):\n",
    "    switcher = {1: 'Address:',\n",
    "                2: 'Room:',\n",
    "                3: 'City:',\n",
    "                4: 'Province:',\n",
    "                5: 'Post:',\n",
    "                9: 'Street:',\n",
    "                10: 'District:',\n",
    "                14: 'Year:'\n",
    "                16: 'house_type:',\n",
    "                17: 'house_style:'}\n",
    "    return switcher.get(args, str(args) + ':')"
   ]
  },
  {
   "cell_type": "code",
   "execution_count": 40,
   "metadata": {
    "scrolled": true
   },
   "outputs": [],
   "source": [
    "house_detail_dictionary = {}\n",
    "\n",
    "\n",
    "with open('house_data.csv', 'a') as csv_file:    \n",
    "    for filename in os.listdir(os.getcwd()):\n",
    "        \n",
    "        if filename.endswith('.html'):\n",
    "            with open(filename) as html_file:\n",
    "                \n",
    "                soup = BeautifulSoup(html_file, 'lxml')\n",
    "                date_printed = soup.find('div', class_='header').text\n",
    "                date_printed = (date_printed[date_printed.find('Printed') + 11:date_printed.find('PM')-10])\n",
    "                source = filename\n",
    "                div_house_list = [tag for tag in soup.find_all('div', class_='report-container') if len(tag.get('class')) > 1]\n",
    "                #report-container has multiple classes so have to specify only pick those with multiple classes\n",
    "                for div_house in div_house_list:\n",
    "                    house_spans = div_house.find_all('span', class_='formitem formfield')\n",
    "                    address = div_house.find('div')\n",
    "                    i = 0\n",
    "                    for span in house_spans:\n",
    "                        i = i + 1\n",
    "                        label = span.label\n",
    "                        detail = span.find('span', class_='value')\n",
    "                        if label is not None:\n",
    "                            house_detail_dictionary[label.text[:-1]] = detail.text\n",
    "                        if label is None and i <= 30:\n",
    "                            label = switch_unlabeledFields(i)                \n",
    "                            house_detail_dictionary[label[:-1]] = detail.text\n",
    "                    house_detail_dictionary['DateAdded'] = date_printed\n",
    "                    house_detail_dictionary['Source'] = source\n",
    "                    w = csv.DictWriter(csv_file, house_detail_dictionary.keys(), lineterminator='\\n')\n",
    "                    w.writerow(house_detail_dictionary)\n",
    "            shutil.move(os.getcwd() + \"\\\\\" + filename, os.getcwd() + \"\\Archive\\\\\" + filename)"
   ]
  },
  {
   "cell_type": "code",
   "execution_count": null,
   "metadata": {},
   "outputs": [],
   "source": []
  }
 ],
 "metadata": {
  "kernelspec": {
   "display_name": "Python 3",
   "language": "python",
   "name": "python3"
  },
  "language_info": {
   "codemirror_mode": {
    "name": "ipython",
    "version": 3
   },
   "file_extension": ".py",
   "mimetype": "text/x-python",
   "name": "python",
   "nbconvert_exporter": "python",
   "pygments_lexer": "ipython3",
   "version": "3.6.5"
  }
 },
 "nbformat": 4,
 "nbformat_minor": 2
}
