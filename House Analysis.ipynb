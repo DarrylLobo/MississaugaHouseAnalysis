{
 "cells": [
  {
   "cell_type": "code",
   "execution_count": 1,
   "metadata": {},
   "outputs": [],
   "source": [
    "#data analysis\n",
    "import pandas as pd\n",
    "import numpy as np\n",
    "import random as rnd"
   ]
  },
  {
   "cell_type": "code",
   "execution_count": 2,
   "metadata": {},
   "outputs": [],
   "source": [
    "#data visulaization\n",
    "#import seaborn as sns\n",
    "import matplotlib.pyplot as plt\n",
    "%matplotlib inline\n",
    "\n",
    "\n",
    "#machine learning\n",
    "from sklearn import linear_model\n",
    "from sklearn.linear_model import LogisticRegression\n",
    "from sklearn.svm import SVC, LinearSVC\n",
    "from sklearn.ensemble import RandomForestClassifier\n",
    "from sklearn.neighbors import KNeighborsClassifier\n",
    "from sklearn.naive_bayes import GaussianNB\n",
    "from sklearn.linear_model import Perceptron\n",
    "from sklearn.linear_model import SGDClassifier\n",
    "from sklearn.tree import DecisionTreeClassifier\n",
    "from sklearn.tree import DecisionTreeRegressor\n",
    "\n",
    "\n",
    "#sklearn accuracy libs\n",
    "from sklearn.metrics import mean_squared_error, r2_score"
   ]
  },
  {
   "cell_type": "code",
   "execution_count": 3,
   "metadata": {},
   "outputs": [],
   "source": [
    "df = pd.read_csv('Training.csv')"
   ]
  },
  {
   "cell_type": "code",
   "execution_count": 4,
   "metadata": {},
   "outputs": [
    {
     "data": {
      "text/plain": [
       "array(['House ID', 'House Type', 'Address', 'Address (city)', 'sq ft',\n",
       "       'rooms', 'Bathrooms', 'Bedrooms', 'Parking', 'Maintenance', 'Tax',\n",
       "       'Cost', '$/sqft', 'Sold/Listed (s/l)', 'Building/Neighbourhood',\n",
       "       'Date_listed'], dtype=object)"
      ]
     },
     "execution_count": 4,
     "metadata": {},
     "output_type": "execute_result"
    }
   ],
   "source": [
    "df.columns.values"
   ]
  },
  {
   "cell_type": "code",
   "execution_count": 5,
   "metadata": {},
   "outputs": [
    {
     "name": "stdout",
     "output_type": "stream",
     "text": [
      "<class 'pandas.core.frame.DataFrame'>\n",
      "RangeIndex: 177 entries, 0 to 176\n",
      "Data columns (total 16 columns):\n",
      "House ID                  177 non-null int64\n",
      "House Type                177 non-null object\n",
      "Address                   177 non-null object\n",
      "Address (city)            177 non-null object\n",
      "sq ft                     177 non-null int64\n",
      "rooms                     177 non-null int64\n",
      "Bathrooms                 177 non-null int64\n",
      "Bedrooms                  177 non-null int64\n",
      "Parking                   177 non-null int64\n",
      "Maintenance               177 non-null object\n",
      "Tax                       177 non-null object\n",
      "Cost                      177 non-null object\n",
      "$/sqft                    177 non-null object\n",
      "Sold/Listed (s/l)         177 non-null object\n",
      "Building/Neighbourhood    177 non-null object\n",
      "Date_listed               177 non-null object\n",
      "dtypes: int64(6), object(10)\n",
      "memory usage: 22.2+ KB\n"
     ]
    }
   ],
   "source": [
    "df.info()\n"
   ]
  },
  {
   "cell_type": "code",
   "execution_count": 6,
   "metadata": {},
   "outputs": [],
   "source": [
    "# changing this columns from categories to FLoats\n",
    "\n",
    "df['Cost'] = df[df.columns[11:12]].replace('[\\$,]', '', regex=True).astype(float)\n",
    "df['$/sqft'] = df[df.columns[12:13]].replace('[\\$,]', '', regex=True).astype(float)\n",
    "df['Tax'] = df[df.columns[10:11]].replace('[\\$,]', '', regex=True).astype(float)\n",
    "df['Maintenance'] = df[df.columns[9:10]].replace('[\\$,]', '', regex=True).astype(float)\n"
   ]
  },
  {
   "cell_type": "code",
   "execution_count": 7,
   "metadata": {},
   "outputs": [
    {
     "data": {
      "text/html": [
       "<div>\n",
       "<style scoped>\n",
       "    .dataframe tbody tr th:only-of-type {\n",
       "        vertical-align: middle;\n",
       "    }\n",
       "\n",
       "    .dataframe tbody tr th {\n",
       "        vertical-align: top;\n",
       "    }\n",
       "\n",
       "    .dataframe thead th {\n",
       "        text-align: right;\n",
       "    }\n",
       "</style>\n",
       "<table border=\"1\" class=\"dataframe\">\n",
       "  <thead>\n",
       "    <tr style=\"text-align: right;\">\n",
       "      <th></th>\n",
       "      <th>House ID</th>\n",
       "      <th>sq ft</th>\n",
       "      <th>rooms</th>\n",
       "      <th>Bathrooms</th>\n",
       "      <th>Bedrooms</th>\n",
       "      <th>Parking</th>\n",
       "      <th>Maintenance</th>\n",
       "      <th>Tax</th>\n",
       "      <th>Cost</th>\n",
       "      <th>$/sqft</th>\n",
       "    </tr>\n",
       "  </thead>\n",
       "  <tbody>\n",
       "    <tr>\n",
       "      <th>count</th>\n",
       "      <td>177.000000</td>\n",
       "      <td>177.000000</td>\n",
       "      <td>177.000000</td>\n",
       "      <td>177.000000</td>\n",
       "      <td>177.000000</td>\n",
       "      <td>177.000000</td>\n",
       "      <td>177.000000</td>\n",
       "      <td>177.000000</td>\n",
       "      <td>177.000000</td>\n",
       "      <td>177.000000</td>\n",
       "    </tr>\n",
       "    <tr>\n",
       "      <th>mean</th>\n",
       "      <td>90.175141</td>\n",
       "      <td>1165.841808</td>\n",
       "      <td>6.163842</td>\n",
       "      <td>1.943503</td>\n",
       "      <td>2.101695</td>\n",
       "      <td>2.028249</td>\n",
       "      <td>753.102147</td>\n",
       "      <td>2237.625198</td>\n",
       "      <td>456176.237288</td>\n",
       "      <td>395.432994</td>\n",
       "    </tr>\n",
       "    <tr>\n",
       "      <th>std</th>\n",
       "      <td>52.033620</td>\n",
       "      <td>150.679061</td>\n",
       "      <td>0.805692</td>\n",
       "      <td>0.496780</td>\n",
       "      <td>0.303104</td>\n",
       "      <td>0.418729</td>\n",
       "      <td>166.476912</td>\n",
       "      <td>448.524321</td>\n",
       "      <td>64988.864898</td>\n",
       "      <td>62.070731</td>\n",
       "    </tr>\n",
       "    <tr>\n",
       "      <th>min</th>\n",
       "      <td>1.000000</td>\n",
       "      <td>850.000000</td>\n",
       "      <td>5.000000</td>\n",
       "      <td>1.000000</td>\n",
       "      <td>2.000000</td>\n",
       "      <td>0.000000</td>\n",
       "      <td>133.000000</td>\n",
       "      <td>1477.710000</td>\n",
       "      <td>325000.000000</td>\n",
       "      <td>265.380000</td>\n",
       "    </tr>\n",
       "    <tr>\n",
       "      <th>25%</th>\n",
       "      <td>45.000000</td>\n",
       "      <td>1100.000000</td>\n",
       "      <td>6.000000</td>\n",
       "      <td>2.000000</td>\n",
       "      <td>2.000000</td>\n",
       "      <td>2.000000</td>\n",
       "      <td>658.050000</td>\n",
       "      <td>1897.330000</td>\n",
       "      <td>410000.000000</td>\n",
       "      <td>346.080000</td>\n",
       "    </tr>\n",
       "    <tr>\n",
       "      <th>50%</th>\n",
       "      <td>90.000000</td>\n",
       "      <td>1100.000000</td>\n",
       "      <td>6.000000</td>\n",
       "      <td>2.000000</td>\n",
       "      <td>2.000000</td>\n",
       "      <td>2.000000</td>\n",
       "      <td>790.100000</td>\n",
       "      <td>2148.910000</td>\n",
       "      <td>439900.000000</td>\n",
       "      <td>390.000000</td>\n",
       "    </tr>\n",
       "    <tr>\n",
       "      <th>75%</th>\n",
       "      <td>135.000000</td>\n",
       "      <td>1300.000000</td>\n",
       "      <td>6.000000</td>\n",
       "      <td>2.000000</td>\n",
       "      <td>2.000000</td>\n",
       "      <td>2.000000</td>\n",
       "      <td>843.570000</td>\n",
       "      <td>2378.230000</td>\n",
       "      <td>499000.000000</td>\n",
       "      <td>435.000000</td>\n",
       "    </tr>\n",
       "    <tr>\n",
       "      <th>max</th>\n",
       "      <td>179.000000</td>\n",
       "      <td>1650.000000</td>\n",
       "      <td>10.000000</td>\n",
       "      <td>4.000000</td>\n",
       "      <td>3.000000</td>\n",
       "      <td>3.000000</td>\n",
       "      <td>1244.590000</td>\n",
       "      <td>3873.000000</td>\n",
       "      <td>599999.000000</td>\n",
       "      <td>588.120000</td>\n",
       "    </tr>\n",
       "  </tbody>\n",
       "</table>\n",
       "</div>"
      ],
      "text/plain": [
       "         House ID        sq ft       rooms   Bathrooms    Bedrooms  \\\n",
       "count  177.000000   177.000000  177.000000  177.000000  177.000000   \n",
       "mean    90.175141  1165.841808    6.163842    1.943503    2.101695   \n",
       "std     52.033620   150.679061    0.805692    0.496780    0.303104   \n",
       "min      1.000000   850.000000    5.000000    1.000000    2.000000   \n",
       "25%     45.000000  1100.000000    6.000000    2.000000    2.000000   \n",
       "50%     90.000000  1100.000000    6.000000    2.000000    2.000000   \n",
       "75%    135.000000  1300.000000    6.000000    2.000000    2.000000   \n",
       "max    179.000000  1650.000000   10.000000    4.000000    3.000000   \n",
       "\n",
       "          Parking  Maintenance          Tax           Cost      $/sqft  \n",
       "count  177.000000   177.000000   177.000000     177.000000  177.000000  \n",
       "mean     2.028249   753.102147  2237.625198  456176.237288  395.432994  \n",
       "std      0.418729   166.476912   448.524321   64988.864898   62.070731  \n",
       "min      0.000000   133.000000  1477.710000  325000.000000  265.380000  \n",
       "25%      2.000000   658.050000  1897.330000  410000.000000  346.080000  \n",
       "50%      2.000000   790.100000  2148.910000  439900.000000  390.000000  \n",
       "75%      2.000000   843.570000  2378.230000  499000.000000  435.000000  \n",
       "max      3.000000  1244.590000  3873.000000  599999.000000  588.120000  "
      ]
     },
     "execution_count": 7,
     "metadata": {},
     "output_type": "execute_result"
    }
   ],
   "source": [
    "df.describe()"
   ]
  },
  {
   "cell_type": "code",
   "execution_count": 8,
   "metadata": {},
   "outputs": [
    {
     "data": {
      "text/html": [
       "<div>\n",
       "<style scoped>\n",
       "    .dataframe tbody tr th:only-of-type {\n",
       "        vertical-align: middle;\n",
       "    }\n",
       "\n",
       "    .dataframe tbody tr th {\n",
       "        vertical-align: top;\n",
       "    }\n",
       "\n",
       "    .dataframe thead th {\n",
       "        text-align: right;\n",
       "    }\n",
       "</style>\n",
       "<table border=\"1\" class=\"dataframe\">\n",
       "  <thead>\n",
       "    <tr style=\"text-align: right;\">\n",
       "      <th></th>\n",
       "      <th>sq ft</th>\n",
       "      <th>Cost</th>\n",
       "    </tr>\n",
       "  </thead>\n",
       "  <tbody>\n",
       "    <tr>\n",
       "      <th>9</th>\n",
       "      <td>1342</td>\n",
       "      <td>585000.000000</td>\n",
       "    </tr>\n",
       "    <tr>\n",
       "      <th>12</th>\n",
       "      <td>1403</td>\n",
       "      <td>572000.000000</td>\n",
       "    </tr>\n",
       "    <tr>\n",
       "      <th>14</th>\n",
       "      <td>1600</td>\n",
       "      <td>569000.000000</td>\n",
       "    </tr>\n",
       "    <tr>\n",
       "      <th>15</th>\n",
       "      <td>1650</td>\n",
       "      <td>559000.000000</td>\n",
       "    </tr>\n",
       "    <tr>\n",
       "      <th>13</th>\n",
       "      <td>1500</td>\n",
       "      <td>523175.000000</td>\n",
       "    </tr>\n",
       "    <tr>\n",
       "      <th>6</th>\n",
       "      <td>1227</td>\n",
       "      <td>498800.000000</td>\n",
       "    </tr>\n",
       "    <tr>\n",
       "      <th>11</th>\n",
       "      <td>1400</td>\n",
       "      <td>480000.000000</td>\n",
       "    </tr>\n",
       "    <tr>\n",
       "      <th>8</th>\n",
       "      <td>1300</td>\n",
       "      <td>465705.269231</td>\n",
       "    </tr>\n",
       "    <tr>\n",
       "      <th>3</th>\n",
       "      <td>1100</td>\n",
       "      <td>451442.178571</td>\n",
       "    </tr>\n",
       "    <tr>\n",
       "      <th>4</th>\n",
       "      <td>1160</td>\n",
       "      <td>448000.000000</td>\n",
       "    </tr>\n",
       "    <tr>\n",
       "      <th>10</th>\n",
       "      <td>1395</td>\n",
       "      <td>448000.000000</td>\n",
       "    </tr>\n",
       "    <tr>\n",
       "      <th>5</th>\n",
       "      <td>1200</td>\n",
       "      <td>435949.750000</td>\n",
       "    </tr>\n",
       "    <tr>\n",
       "      <th>2</th>\n",
       "      <td>1000</td>\n",
       "      <td>435000.000000</td>\n",
       "    </tr>\n",
       "    <tr>\n",
       "      <th>0</th>\n",
       "      <td>850</td>\n",
       "      <td>434114.285714</td>\n",
       "    </tr>\n",
       "    <tr>\n",
       "      <th>7</th>\n",
       "      <td>1250</td>\n",
       "      <td>419900.000000</td>\n",
       "    </tr>\n",
       "    <tr>\n",
       "      <th>1</th>\n",
       "      <td>950</td>\n",
       "      <td>404112.714286</td>\n",
       "    </tr>\n",
       "  </tbody>\n",
       "</table>\n",
       "</div>"
      ],
      "text/plain": [
       "    sq ft           Cost\n",
       "9    1342  585000.000000\n",
       "12   1403  572000.000000\n",
       "14   1600  569000.000000\n",
       "15   1650  559000.000000\n",
       "13   1500  523175.000000\n",
       "6    1227  498800.000000\n",
       "11   1400  480000.000000\n",
       "8    1300  465705.269231\n",
       "3    1100  451442.178571\n",
       "4    1160  448000.000000\n",
       "10   1395  448000.000000\n",
       "5    1200  435949.750000\n",
       "2    1000  435000.000000\n",
       "0     850  434114.285714\n",
       "7    1250  419900.000000\n",
       "1     950  404112.714286"
      ]
     },
     "execution_count": 8,
     "metadata": {},
     "output_type": "execute_result"
    }
   ],
   "source": [
    "df[['sq ft', 'Cost']].groupby(['sq ft'], as_index=False).mean().sort_values(by='Cost', ascending=False)"
   ]
  },
  {
   "cell_type": "code",
   "execution_count": 9,
   "metadata": {},
   "outputs": [
    {
     "data": {
      "text/html": [
       "<div>\n",
       "<style scoped>\n",
       "    .dataframe tbody tr th:only-of-type {\n",
       "        vertical-align: middle;\n",
       "    }\n",
       "\n",
       "    .dataframe tbody tr th {\n",
       "        vertical-align: top;\n",
       "    }\n",
       "\n",
       "    .dataframe thead th {\n",
       "        text-align: right;\n",
       "    }\n",
       "</style>\n",
       "<table border=\"1\" class=\"dataframe\">\n",
       "  <thead>\n",
       "    <tr style=\"text-align: right;\">\n",
       "      <th></th>\n",
       "      <th>rooms</th>\n",
       "      <th>Cost</th>\n",
       "    </tr>\n",
       "  </thead>\n",
       "  <tbody>\n",
       "    <tr>\n",
       "      <th>4</th>\n",
       "      <td>9</td>\n",
       "      <td>524900.000000</td>\n",
       "    </tr>\n",
       "    <tr>\n",
       "      <th>3</th>\n",
       "      <td>8</td>\n",
       "      <td>523169.800000</td>\n",
       "    </tr>\n",
       "    <tr>\n",
       "      <th>5</th>\n",
       "      <td>10</td>\n",
       "      <td>519950.000000</td>\n",
       "    </tr>\n",
       "    <tr>\n",
       "      <th>2</th>\n",
       "      <td>7</td>\n",
       "      <td>458227.777778</td>\n",
       "    </tr>\n",
       "    <tr>\n",
       "      <th>1</th>\n",
       "      <td>6</td>\n",
       "      <td>453059.968254</td>\n",
       "    </tr>\n",
       "    <tr>\n",
       "      <th>0</th>\n",
       "      <td>5</td>\n",
       "      <td>430652.000000</td>\n",
       "    </tr>\n",
       "  </tbody>\n",
       "</table>\n",
       "</div>"
      ],
      "text/plain": [
       "   rooms           Cost\n",
       "4      9  524900.000000\n",
       "3      8  523169.800000\n",
       "5     10  519950.000000\n",
       "2      7  458227.777778\n",
       "1      6  453059.968254\n",
       "0      5  430652.000000"
      ]
     },
     "execution_count": 9,
     "metadata": {},
     "output_type": "execute_result"
    }
   ],
   "source": [
    "df[['rooms', 'Cost']].groupby(['rooms'], as_index=False).mean().sort_values(by='Cost', ascending=False)"
   ]
  },
  {
   "cell_type": "code",
   "execution_count": 10,
   "metadata": {},
   "outputs": [
    {
     "data": {
      "text/html": [
       "<div>\n",
       "<style scoped>\n",
       "    .dataframe tbody tr th:only-of-type {\n",
       "        vertical-align: middle;\n",
       "    }\n",
       "\n",
       "    .dataframe tbody tr th {\n",
       "        vertical-align: top;\n",
       "    }\n",
       "\n",
       "    .dataframe thead th {\n",
       "        text-align: right;\n",
       "    }\n",
       "</style>\n",
       "<table border=\"1\" class=\"dataframe\">\n",
       "  <thead>\n",
       "    <tr style=\"text-align: right;\">\n",
       "      <th></th>\n",
       "      <th>Bathrooms</th>\n",
       "      <th>Cost</th>\n",
       "    </tr>\n",
       "  </thead>\n",
       "  <tbody>\n",
       "    <tr>\n",
       "      <th>3</th>\n",
       "      <td>4</td>\n",
       "      <td>565966.666667</td>\n",
       "    </tr>\n",
       "    <tr>\n",
       "      <th>2</th>\n",
       "      <td>3</td>\n",
       "      <td>560987.125000</td>\n",
       "    </tr>\n",
       "    <tr>\n",
       "      <th>1</th>\n",
       "      <td>2</td>\n",
       "      <td>455723.021127</td>\n",
       "    </tr>\n",
       "    <tr>\n",
       "      <th>0</th>\n",
       "      <td>1</td>\n",
       "      <td>410197.000000</td>\n",
       "    </tr>\n",
       "  </tbody>\n",
       "</table>\n",
       "</div>"
      ],
      "text/plain": [
       "   Bathrooms           Cost\n",
       "3          4  565966.666667\n",
       "2          3  560987.125000\n",
       "1          2  455723.021127\n",
       "0          1  410197.000000"
      ]
     },
     "execution_count": 10,
     "metadata": {},
     "output_type": "execute_result"
    }
   ],
   "source": [
    "df[['Bathrooms', 'Cost']].groupby(['Bathrooms'], as_index=False).mean().sort_values(by='Cost', ascending=False)"
   ]
  },
  {
   "cell_type": "code",
   "execution_count": 11,
   "metadata": {},
   "outputs": [
    {
     "data": {
      "text/html": [
       "<div>\n",
       "<style scoped>\n",
       "    .dataframe tbody tr th:only-of-type {\n",
       "        vertical-align: middle;\n",
       "    }\n",
       "\n",
       "    .dataframe tbody tr th {\n",
       "        vertical-align: top;\n",
       "    }\n",
       "\n",
       "    .dataframe thead th {\n",
       "        text-align: right;\n",
       "    }\n",
       "</style>\n",
       "<table border=\"1\" class=\"dataframe\">\n",
       "  <thead>\n",
       "    <tr style=\"text-align: right;\">\n",
       "      <th></th>\n",
       "      <th>House ID</th>\n",
       "      <th>House Type</th>\n",
       "      <th>Address</th>\n",
       "      <th>Address (city)</th>\n",
       "      <th>sq ft</th>\n",
       "      <th>rooms</th>\n",
       "      <th>Bathrooms</th>\n",
       "      <th>Bedrooms</th>\n",
       "      <th>Parking</th>\n",
       "      <th>Maintenance</th>\n",
       "      <th>Tax</th>\n",
       "      <th>Cost</th>\n",
       "      <th>$/sqft</th>\n",
       "      <th>Sold/Listed (s/l)</th>\n",
       "      <th>Building/Neighbourhood</th>\n",
       "      <th>Date_listed</th>\n",
       "    </tr>\n",
       "  </thead>\n",
       "  <tbody>\n",
       "    <tr>\n",
       "      <th>0</th>\n",
       "      <td>1</td>\n",
       "      <td>Condo</td>\n",
       "      <td>3650 Kaneff Cres 1704\\n Mississauga Ontario L5...</td>\n",
       "      <td>Mississauga</td>\n",
       "      <td>1300</td>\n",
       "      <td>6</td>\n",
       "      <td>2</td>\n",
       "      <td>2</td>\n",
       "      <td>1</td>\n",
       "      <td>807.55</td>\n",
       "      <td>2168.00</td>\n",
       "      <td>387000.0</td>\n",
       "      <td>297.69</td>\n",
       "      <td>s</td>\n",
       "      <td>3650 Kaneff Cres</td>\n",
       "      <td>1/31/2017</td>\n",
       "    </tr>\n",
       "    <tr>\n",
       "      <th>1</th>\n",
       "      <td>2</td>\n",
       "      <td>Condo</td>\n",
       "      <td>3650 Kaneff Cres 1704\\n Mississauga Ontario L5...</td>\n",
       "      <td>Mississauga</td>\n",
       "      <td>1300</td>\n",
       "      <td>6</td>\n",
       "      <td>2</td>\n",
       "      <td>2</td>\n",
       "      <td>1</td>\n",
       "      <td>807.55</td>\n",
       "      <td>2163.77</td>\n",
       "      <td>406000.0</td>\n",
       "      <td>312.31</td>\n",
       "      <td>s</td>\n",
       "      <td>3650 Kaneff Cres</td>\n",
       "      <td>2/1/2017</td>\n",
       "    </tr>\n",
       "    <tr>\n",
       "      <th>2</th>\n",
       "      <td>3</td>\n",
       "      <td>Condo</td>\n",
       "      <td>3650 Kaneff Cres 1802\\n Mississauga Ontario L5...</td>\n",
       "      <td>Mississauga</td>\n",
       "      <td>1300</td>\n",
       "      <td>6</td>\n",
       "      <td>2</td>\n",
       "      <td>2</td>\n",
       "      <td>2</td>\n",
       "      <td>798.00</td>\n",
       "      <td>2174.39</td>\n",
       "      <td>434500.0</td>\n",
       "      <td>334.23</td>\n",
       "      <td>s</td>\n",
       "      <td>3650 Kaneff Cres</td>\n",
       "      <td>2/2/2017</td>\n",
       "    </tr>\n",
       "    <tr>\n",
       "      <th>3</th>\n",
       "      <td>4</td>\n",
       "      <td>Condo</td>\n",
       "      <td>3650 Kaneff Cres 1802\\n Mississauga Ontario L5...</td>\n",
       "      <td>Mississauga</td>\n",
       "      <td>1300</td>\n",
       "      <td>6</td>\n",
       "      <td>2</td>\n",
       "      <td>2</td>\n",
       "      <td>2</td>\n",
       "      <td>770.80</td>\n",
       "      <td>2168.03</td>\n",
       "      <td>385000.0</td>\n",
       "      <td>296.15</td>\n",
       "      <td>s</td>\n",
       "      <td>3650 Kaneff Cres</td>\n",
       "      <td>2/3/2017</td>\n",
       "    </tr>\n",
       "    <tr>\n",
       "      <th>4</th>\n",
       "      <td>5</td>\n",
       "      <td>Condo</td>\n",
       "      <td>3650 Kaneff Cres 1802\\n Mississauga Ontario L5...</td>\n",
       "      <td>Mississauga</td>\n",
       "      <td>1300</td>\n",
       "      <td>7</td>\n",
       "      <td>2</td>\n",
       "      <td>2</td>\n",
       "      <td>2</td>\n",
       "      <td>795.87</td>\n",
       "      <td>2180.00</td>\n",
       "      <td>425000.0</td>\n",
       "      <td>326.92</td>\n",
       "      <td>s</td>\n",
       "      <td>3650 Kaneff Cres</td>\n",
       "      <td>2/4/2017</td>\n",
       "    </tr>\n",
       "  </tbody>\n",
       "</table>\n",
       "</div>"
      ],
      "text/plain": [
       "   House ID House Type                                            Address  \\\n",
       "0         1      Condo  3650 Kaneff Cres 1704\\n Mississauga Ontario L5...   \n",
       "1         2      Condo  3650 Kaneff Cres 1704\\n Mississauga Ontario L5...   \n",
       "2         3      Condo  3650 Kaneff Cres 1802\\n Mississauga Ontario L5...   \n",
       "3         4      Condo  3650 Kaneff Cres 1802\\n Mississauga Ontario L5...   \n",
       "4         5      Condo  3650 Kaneff Cres 1802\\n Mississauga Ontario L5...   \n",
       "\n",
       "  Address (city)  sq ft  rooms  Bathrooms  Bedrooms  Parking  Maintenance  \\\n",
       "0    Mississauga   1300      6          2         2        1       807.55   \n",
       "1    Mississauga   1300      6          2         2        1       807.55   \n",
       "2    Mississauga   1300      6          2         2        2       798.00   \n",
       "3    Mississauga   1300      6          2         2        2       770.80   \n",
       "4    Mississauga   1300      7          2         2        2       795.87   \n",
       "\n",
       "       Tax      Cost  $/sqft Sold/Listed (s/l) Building/Neighbourhood  \\\n",
       "0  2168.00  387000.0  297.69                 s       3650 Kaneff Cres   \n",
       "1  2163.77  406000.0  312.31                 s       3650 Kaneff Cres   \n",
       "2  2174.39  434500.0  334.23                 s       3650 Kaneff Cres   \n",
       "3  2168.03  385000.0  296.15                 s       3650 Kaneff Cres   \n",
       "4  2180.00  425000.0  326.92                 s       3650 Kaneff Cres   \n",
       "\n",
       "  Date_listed  \n",
       "0   1/31/2017  \n",
       "1    2/1/2017  \n",
       "2    2/2/2017  \n",
       "3    2/3/2017  \n",
       "4    2/4/2017  "
      ]
     },
     "execution_count": 11,
     "metadata": {},
     "output_type": "execute_result"
    }
   ],
   "source": [
    "df.head()"
   ]
  },
  {
   "cell_type": "code",
   "execution_count": 12,
   "metadata": {},
   "outputs": [],
   "source": [
    "df = df.drop(['Address', 'Address (city)', 'Sold/Listed (s/l)','Date_listed','House ID'], axis=1)"
   ]
  },
  {
   "cell_type": "code",
   "execution_count": 13,
   "metadata": {},
   "outputs": [
    {
     "data": {
      "text/html": [
       "<div>\n",
       "<style scoped>\n",
       "    .dataframe tbody tr th:only-of-type {\n",
       "        vertical-align: middle;\n",
       "    }\n",
       "\n",
       "    .dataframe tbody tr th {\n",
       "        vertical-align: top;\n",
       "    }\n",
       "\n",
       "    .dataframe thead th {\n",
       "        text-align: right;\n",
       "    }\n",
       "</style>\n",
       "<table border=\"1\" class=\"dataframe\">\n",
       "  <thead>\n",
       "    <tr style=\"text-align: right;\">\n",
       "      <th></th>\n",
       "      <th>sq ft</th>\n",
       "      <th>rooms</th>\n",
       "      <th>Bathrooms</th>\n",
       "      <th>Bedrooms</th>\n",
       "      <th>Parking</th>\n",
       "      <th>Maintenance</th>\n",
       "      <th>Tax</th>\n",
       "      <th>Cost</th>\n",
       "      <th>$/sqft</th>\n",
       "    </tr>\n",
       "  </thead>\n",
       "  <tbody>\n",
       "    <tr>\n",
       "      <th>count</th>\n",
       "      <td>177.000000</td>\n",
       "      <td>177.000000</td>\n",
       "      <td>177.000000</td>\n",
       "      <td>177.000000</td>\n",
       "      <td>177.000000</td>\n",
       "      <td>177.000000</td>\n",
       "      <td>177.000000</td>\n",
       "      <td>177.000000</td>\n",
       "      <td>177.000000</td>\n",
       "    </tr>\n",
       "    <tr>\n",
       "      <th>mean</th>\n",
       "      <td>1165.841808</td>\n",
       "      <td>6.163842</td>\n",
       "      <td>1.943503</td>\n",
       "      <td>2.101695</td>\n",
       "      <td>2.028249</td>\n",
       "      <td>753.102147</td>\n",
       "      <td>2237.625198</td>\n",
       "      <td>456176.237288</td>\n",
       "      <td>395.432994</td>\n",
       "    </tr>\n",
       "    <tr>\n",
       "      <th>std</th>\n",
       "      <td>150.679061</td>\n",
       "      <td>0.805692</td>\n",
       "      <td>0.496780</td>\n",
       "      <td>0.303104</td>\n",
       "      <td>0.418729</td>\n",
       "      <td>166.476912</td>\n",
       "      <td>448.524321</td>\n",
       "      <td>64988.864898</td>\n",
       "      <td>62.070731</td>\n",
       "    </tr>\n",
       "    <tr>\n",
       "      <th>min</th>\n",
       "      <td>850.000000</td>\n",
       "      <td>5.000000</td>\n",
       "      <td>1.000000</td>\n",
       "      <td>2.000000</td>\n",
       "      <td>0.000000</td>\n",
       "      <td>133.000000</td>\n",
       "      <td>1477.710000</td>\n",
       "      <td>325000.000000</td>\n",
       "      <td>265.380000</td>\n",
       "    </tr>\n",
       "    <tr>\n",
       "      <th>25%</th>\n",
       "      <td>1100.000000</td>\n",
       "      <td>6.000000</td>\n",
       "      <td>2.000000</td>\n",
       "      <td>2.000000</td>\n",
       "      <td>2.000000</td>\n",
       "      <td>658.050000</td>\n",
       "      <td>1897.330000</td>\n",
       "      <td>410000.000000</td>\n",
       "      <td>346.080000</td>\n",
       "    </tr>\n",
       "    <tr>\n",
       "      <th>50%</th>\n",
       "      <td>1100.000000</td>\n",
       "      <td>6.000000</td>\n",
       "      <td>2.000000</td>\n",
       "      <td>2.000000</td>\n",
       "      <td>2.000000</td>\n",
       "      <td>790.100000</td>\n",
       "      <td>2148.910000</td>\n",
       "      <td>439900.000000</td>\n",
       "      <td>390.000000</td>\n",
       "    </tr>\n",
       "    <tr>\n",
       "      <th>75%</th>\n",
       "      <td>1300.000000</td>\n",
       "      <td>6.000000</td>\n",
       "      <td>2.000000</td>\n",
       "      <td>2.000000</td>\n",
       "      <td>2.000000</td>\n",
       "      <td>843.570000</td>\n",
       "      <td>2378.230000</td>\n",
       "      <td>499000.000000</td>\n",
       "      <td>435.000000</td>\n",
       "    </tr>\n",
       "    <tr>\n",
       "      <th>max</th>\n",
       "      <td>1650.000000</td>\n",
       "      <td>10.000000</td>\n",
       "      <td>4.000000</td>\n",
       "      <td>3.000000</td>\n",
       "      <td>3.000000</td>\n",
       "      <td>1244.590000</td>\n",
       "      <td>3873.000000</td>\n",
       "      <td>599999.000000</td>\n",
       "      <td>588.120000</td>\n",
       "    </tr>\n",
       "  </tbody>\n",
       "</table>\n",
       "</div>"
      ],
      "text/plain": [
       "             sq ft       rooms   Bathrooms    Bedrooms     Parking  \\\n",
       "count   177.000000  177.000000  177.000000  177.000000  177.000000   \n",
       "mean   1165.841808    6.163842    1.943503    2.101695    2.028249   \n",
       "std     150.679061    0.805692    0.496780    0.303104    0.418729   \n",
       "min     850.000000    5.000000    1.000000    2.000000    0.000000   \n",
       "25%    1100.000000    6.000000    2.000000    2.000000    2.000000   \n",
       "50%    1100.000000    6.000000    2.000000    2.000000    2.000000   \n",
       "75%    1300.000000    6.000000    2.000000    2.000000    2.000000   \n",
       "max    1650.000000   10.000000    4.000000    3.000000    3.000000   \n",
       "\n",
       "       Maintenance          Tax           Cost      $/sqft  \n",
       "count   177.000000   177.000000     177.000000  177.000000  \n",
       "mean    753.102147  2237.625198  456176.237288  395.432994  \n",
       "std     166.476912   448.524321   64988.864898   62.070731  \n",
       "min     133.000000  1477.710000  325000.000000  265.380000  \n",
       "25%     658.050000  1897.330000  410000.000000  346.080000  \n",
       "50%     790.100000  2148.910000  439900.000000  390.000000  \n",
       "75%     843.570000  2378.230000  499000.000000  435.000000  \n",
       "max    1244.590000  3873.000000  599999.000000  588.120000  "
      ]
     },
     "execution_count": 13,
     "metadata": {},
     "output_type": "execute_result"
    }
   ],
   "source": [
    "df.describe()"
   ]
  },
  {
   "cell_type": "code",
   "execution_count": 14,
   "metadata": {},
   "outputs": [
    {
     "data": {
      "text/html": [
       "<div>\n",
       "<style scoped>\n",
       "    .dataframe tbody tr th:only-of-type {\n",
       "        vertical-align: middle;\n",
       "    }\n",
       "\n",
       "    .dataframe tbody tr th {\n",
       "        vertical-align: top;\n",
       "    }\n",
       "\n",
       "    .dataframe thead th {\n",
       "        text-align: right;\n",
       "    }\n",
       "</style>\n",
       "<table border=\"1\" class=\"dataframe\">\n",
       "  <thead>\n",
       "    <tr style=\"text-align: right;\">\n",
       "      <th></th>\n",
       "      <th>House Type</th>\n",
       "      <th>Building/Neighbourhood</th>\n",
       "    </tr>\n",
       "  </thead>\n",
       "  <tbody>\n",
       "    <tr>\n",
       "      <th>count</th>\n",
       "      <td>177</td>\n",
       "      <td>177</td>\n",
       "    </tr>\n",
       "    <tr>\n",
       "      <th>unique</th>\n",
       "      <td>2</td>\n",
       "      <td>45</td>\n",
       "    </tr>\n",
       "    <tr>\n",
       "      <th>top</th>\n",
       "      <td>Condo</td>\n",
       "      <td>250 Webb Dr</td>\n",
       "    </tr>\n",
       "    <tr>\n",
       "      <th>freq</th>\n",
       "      <td>168</td>\n",
       "      <td>18</td>\n",
       "    </tr>\n",
       "  </tbody>\n",
       "</table>\n",
       "</div>"
      ],
      "text/plain": [
       "       House Type Building/Neighbourhood\n",
       "count         177                    177\n",
       "unique          2                     45\n",
       "top         Condo            250 Webb Dr\n",
       "freq          168                     18"
      ]
     },
     "execution_count": 14,
     "metadata": {},
     "output_type": "execute_result"
    }
   ],
   "source": [
    "df.describe(include=['O'])"
   ]
  },
  {
   "cell_type": "code",
   "execution_count": 15,
   "metadata": {},
   "outputs": [
    {
     "data": {
      "text/html": [
       "<div>\n",
       "<style scoped>\n",
       "    .dataframe tbody tr th:only-of-type {\n",
       "        vertical-align: middle;\n",
       "    }\n",
       "\n",
       "    .dataframe tbody tr th {\n",
       "        vertical-align: top;\n",
       "    }\n",
       "\n",
       "    .dataframe thead th {\n",
       "        text-align: right;\n",
       "    }\n",
       "</style>\n",
       "<table border=\"1\" class=\"dataframe\">\n",
       "  <thead>\n",
       "    <tr style=\"text-align: right;\">\n",
       "      <th></th>\n",
       "      <th>House Type</th>\n",
       "      <th>sq ft</th>\n",
       "      <th>rooms</th>\n",
       "      <th>Bathrooms</th>\n",
       "      <th>Bedrooms</th>\n",
       "      <th>Parking</th>\n",
       "      <th>Maintenance</th>\n",
       "      <th>Tax</th>\n",
       "      <th>Cost</th>\n",
       "      <th>$/sqft</th>\n",
       "      <th>Building/Neighbourhood</th>\n",
       "    </tr>\n",
       "  </thead>\n",
       "  <tbody>\n",
       "  </tbody>\n",
       "</table>\n",
       "</div>"
      ],
      "text/plain": [
       "Empty DataFrame\n",
       "Columns: [House Type, sq ft, rooms, Bathrooms, Bedrooms, Parking, Maintenance, Tax, Cost, $/sqft, Building/Neighbourhood]\n",
       "Index: []"
      ]
     },
     "execution_count": 15,
     "metadata": {},
     "output_type": "execute_result"
    }
   ],
   "source": [
    "all_null_rows = df[df['Tax'].isnull()]\n",
    "all_null_rows"
   ]
  },
  {
   "cell_type": "code",
   "execution_count": 16,
   "metadata": {},
   "outputs": [],
   "source": [
    "#tax_guess = df[(df['$/sqft'] >= 340.00) & (df['$/sqft'] < 345.00)]['Tax'].dropna()"
   ]
  },
  {
   "cell_type": "code",
   "execution_count": 17,
   "metadata": {},
   "outputs": [],
   "source": [
    "#df['Tax'][12] = tax_guess.mean()"
   ]
  },
  {
   "cell_type": "code",
   "execution_count": 18,
   "metadata": {},
   "outputs": [],
   "source": [
    "#df['House Type'].drop_duplicates()\n",
    "#can name this and map it to a number however will use an inbuild scikit learn one hot encoder method\n",
    "#df['House Type'] = df['House Type'].map({'Apartment': 0, 'Condo/Town': 1, 'Condo': 2}).astype(int)"
   ]
  },
  {
   "cell_type": "markdown",
   "metadata": {},
   "source": [
    "## Some visualization to help build some intuition into how to apply machine learning"
   ]
  },
  {
   "cell_type": "code",
   "execution_count": 19,
   "metadata": {},
   "outputs": [
    {
     "data": {
      "image/png": "[encoded data removed]",
      "text/plain": [
       "<Figure size 1440x1080 with 9 Axes>"
      ]
     },
     "metadata": {},
     "output_type": "display_data"
    }
   ],
   "source": [
    "df.hist(bins=50, figsize=(20,15))\n",
    "plt.show()"
   ]
  },
  {
   "cell_type": "code",
   "execution_count": 20,
   "metadata": {},
   "outputs": [
    {
     "data": {
      "text/plain": [
       "0    4.0\n",
       "1    5.0\n",
       "2    5.0\n",
       "3    4.0\n",
       "4    5.0\n",
       "Name: Cost_cat, dtype: float64"
      ]
     },
     "execution_count": 20,
     "metadata": {},
     "output_type": "execute_result"
    }
   ],
   "source": [
    "df[\"Cost_cat\"] = np.ceil(df[\"Cost\"]/100000)\n",
    "df[\"Cost_cat\"].head()"
   ]
  },
  {
   "cell_type": "code",
   "execution_count": 21,
   "metadata": {},
   "outputs": [
    {
     "data": {
      "text/plain": [
       "Cost           1.000000\n",
       "Cost_cat       0.900518\n",
       "Tax            0.730197\n",
       "$/sqft         0.612341\n",
       "Bathrooms      0.457699\n",
       "sq ft          0.344471\n",
       "rooms          0.282528\n",
       "Bedrooms       0.281382\n",
       "Parking        0.181444\n",
       "Maintenance   -0.016478\n",
       "Name: Cost, dtype: float64"
      ]
     },
     "execution_count": 21,
     "metadata": {},
     "output_type": "execute_result"
    }
   ],
   "source": [
    "# let's check the correlation of the various attributes to the cost of house\n",
    "corr_matrix = df.corr()\n",
    "corr_matrix[\"Cost\"].sort_values(ascending=False)"
   ]
  },
  {
   "cell_type": "code",
   "execution_count": 22,
   "metadata": {},
   "outputs": [
    {
     "data": {
      "text/plain": [
       "array([[<matplotlib.axes._subplots.AxesSubplot object at 0x000001A50C9F9D68>,\n",
       "        <matplotlib.axes._subplots.AxesSubplot object at 0x000001A50CA11128>,\n",
       "        <matplotlib.axes._subplots.AxesSubplot object at 0x000001A50CA277B8>,\n",
       "        <matplotlib.axes._subplots.AxesSubplot object at 0x000001A50CA49E48>,\n",
       "        <matplotlib.axes._subplots.AxesSubplot object at 0x000001A50CA6E518>],\n",
       "       [<matplotlib.axes._subplots.AxesSubplot object at 0x000001A50CA6E550>,\n",
       "        <matplotlib.axes._subplots.AxesSubplot object at 0x000001A50CAC5278>,\n",
       "        <matplotlib.axes._subplots.AxesSubplot object at 0x000001A50CAEC908>,\n",
       "        <matplotlib.axes._subplots.AxesSubplot object at 0x000001A50CB15F98>,\n",
       "        <matplotlib.axes._subplots.AxesSubplot object at 0x000001A50CB48668>],\n",
       "       [<matplotlib.axes._subplots.AxesSubplot object at 0x000001A50CB6FCF8>,\n",
       "        <matplotlib.axes._subplots.AxesSubplot object at 0x000001A50CBA13C8>,\n",
       "        <matplotlib.axes._subplots.AxesSubplot object at 0x000001A50CBC9A58>,\n",
       "        <matplotlib.axes._subplots.AxesSubplot object at 0x000001A50CBFC128>,\n",
       "        <matplotlib.axes._subplots.AxesSubplot object at 0x000001A50CC237B8>],\n",
       "       [<matplotlib.axes._subplots.AxesSubplot object at 0x000001A50CC4BE48>,\n",
       "        <matplotlib.axes._subplots.AxesSubplot object at 0x000001A50CC7E4E0>,\n",
       "        <matplotlib.axes._subplots.AxesSubplot object at 0x000001A50CCA5B70>,\n",
       "        <matplotlib.axes._subplots.AxesSubplot object at 0x000001A50CCD7240>,\n",
       "        <matplotlib.axes._subplots.AxesSubplot object at 0x000001A50C1497B8>],\n",
       "       [<matplotlib.axes._subplots.AxesSubplot object at 0x000001A50C1562E8>,\n",
       "        <matplotlib.axes._subplots.AxesSubplot object at 0x000001A50C966B00>,\n",
       "        <matplotlib.axes._subplots.AxesSubplot object at 0x000001A50D1340F0>,\n",
       "        <matplotlib.axes._subplots.AxesSubplot object at 0x000001A50C8F2048>,\n",
       "        <matplotlib.axes._subplots.AxesSubplot object at 0x000001A50C927BA8>]],\n",
       "      dtype=object)"
      ]
     },
     "execution_count": 22,
     "metadata": {},
     "output_type": "execute_result"
    },
    {
     "data": {
      "image/png": "[encoded data removed]",
      "text/plain": [
       "<Figure size 864x576 with 25 Axes>"
      ]
     },
     "metadata": {},
     "output_type": "display_data"
    }
   ],
   "source": [
    "from pandas.plotting import scatter_matrix\n",
    "attributes = [\"Cost\", \"Tax\", \"rooms\", \"sq ft\", \"Bathrooms\"]\n",
    "scatter_matrix(df[attributes], figsize=(12,8))"
   ]
  },
  {
   "cell_type": "code",
   "execution_count": 23,
   "metadata": {},
   "outputs": [],
   "source": [
    "#Some feature engineering could help create some more features that could contribute to the cost with a higher correlation\n",
    "\n",
    "df[\"avg_room_size\"] = df[\"sq ft\"]/df[\"rooms\"]\n",
    "df[\"maintenance_per_sqft\"] = df[\"Maintenance\"]/df[\"sq ft\"]\n",
    "df[\"bedroom_to_totalRoom_ratio\"] = df[\"Bedrooms\"]/df[\"rooms\"]\n",
    "df[\"bathroom_to_totalRoom_ratio\"] = df[\"Bathrooms\"]/df[\"rooms\"]"
   ]
  },
  {
   "cell_type": "code",
   "execution_count": 24,
   "metadata": {},
   "outputs": [
    {
     "data": {
      "text/plain": [
       "Cost                           1.000000\n",
       "Cost_cat                       0.900518\n",
       "Tax                            0.730197\n",
       "$/sqft                         0.612341\n",
       "Bathrooms                      0.457699\n",
       "sq ft                          0.344471\n",
       "bathroom_to_totalRoom_ratio    0.343979\n",
       "rooms                          0.282528\n",
       "Bedrooms                       0.281382\n",
       "Parking                        0.181444\n",
       "avg_room_size                  0.089524\n",
       "bedroom_to_totalRoom_ratio    -0.001786\n",
       "Maintenance                   -0.016478\n",
       "maintenance_per_sqft          -0.263078\n",
       "Name: Cost, dtype: float64"
      ]
     },
     "execution_count": 24,
     "metadata": {},
     "output_type": "execute_result"
    }
   ],
   "source": [
    "# let's check the correlation of the newly created attributes\n",
    "corr_matrix = df.corr()\n",
    "corr_matrix[\"Cost\"].sort_values(ascending=False)"
   ]
  },
  {
   "cell_type": "code",
   "execution_count": 25,
   "metadata": {},
   "outputs": [
    {
     "data": {
      "text/plain": [
       "array([[<matplotlib.axes._subplots.AxesSubplot object at 0x000001A50C69A438>,\n",
       "        <matplotlib.axes._subplots.AxesSubplot object at 0x000001A50C6D0F28>,\n",
       "        <matplotlib.axes._subplots.AxesSubplot object at 0x000001A50C6F0CF8>,\n",
       "        <matplotlib.axes._subplots.AxesSubplot object at 0x000001A50D007240>,\n",
       "        <matplotlib.axes._subplots.AxesSubplot object at 0x000001A50C6360F0>],\n",
       "       [<matplotlib.axes._subplots.AxesSubplot object at 0x000001A50C6360B8>,\n",
       "        <matplotlib.axes._subplots.AxesSubplot object at 0x000001A50D0B9828>,\n",
       "        <matplotlib.axes._subplots.AxesSubplot object at 0x000001A50D0CEC18>,\n",
       "        <matplotlib.axes._subplots.AxesSubplot object at 0x000001A50C5A02E8>,\n",
       "        <matplotlib.axes._subplots.AxesSubplot object at 0x000001A50C5AD588>],\n",
       "       [<matplotlib.axes._subplots.AxesSubplot object at 0x000001A50C611278>,\n",
       "        <matplotlib.axes._subplots.AxesSubplot object at 0x000001A50C165198>,\n",
       "        <matplotlib.axes._subplots.AxesSubplot object at 0x000001A50CFFFA20>,\n",
       "        <matplotlib.axes._subplots.AxesSubplot object at 0x000001A50D04C0F0>,\n",
       "        <matplotlib.axes._subplots.AxesSubplot object at 0x000001A50D11D780>],\n",
       "       [<matplotlib.axes._subplots.AxesSubplot object at 0x000001A50CD16E10>,\n",
       "        <matplotlib.axes._subplots.AxesSubplot object at 0x000001A50D0A94E0>,\n",
       "        <matplotlib.axes._subplots.AxesSubplot object at 0x000001A50C23FB70>,\n",
       "        <matplotlib.axes._subplots.AxesSubplot object at 0x000001A50C578240>,\n",
       "        <matplotlib.axes._subplots.AxesSubplot object at 0x000001A50C5528D0>],\n",
       "       [<matplotlib.axes._subplots.AxesSubplot object at 0x000001A50C5225C0>,\n",
       "        <matplotlib.axes._subplots.AxesSubplot object at 0x000001A50C48A630>,\n",
       "        <matplotlib.axes._subplots.AxesSubplot object at 0x000001A50C4D9C88>,\n",
       "        <matplotlib.axes._subplots.AxesSubplot object at 0x000001A50C4AB358>,\n",
       "        <matplotlib.axes._subplots.AxesSubplot object at 0x000001A50C5029E8>]],\n",
       "      dtype=object)"
      ]
     },
     "execution_count": 25,
     "metadata": {},
     "output_type": "execute_result"
    },
    {
     "data": {
      "image/png": "[encoded data removed]",
      "text/plain": [
       "<Figure size 864x576 with 25 Axes>"
      ]
     },
     "metadata": {},
     "output_type": "display_data"
    }
   ],
   "source": [
    "from pandas.plotting import scatter_matrix\n",
    "attributes = [\"Cost\", \"House Type\", \"maintenance_per_sqft\", \"avg_room_size\", \"bedroom_to_totalRoom_ratio\", \"bathroom_to_totalRoom_ratio\"]\n",
    "scatter_matrix(df[attributes], figsize=(12,8))"
   ]
  },
  {
   "cell_type": "markdown",
   "metadata": {},
   "source": [
    "#### BUILD PREPARATION STEPS THE DATA"
   ]
  },
  {
   "cell_type": "code",
   "execution_count": 26,
   "metadata": {},
   "outputs": [],
   "source": [
    "#We can create custom Transformers using scikit learn, all you need to do is import BaseEstimator, and TransformerMixin\n",
    "#from sklearn.base:\n",
    "\n",
    "from sklearn.base import BaseEstimator, TransformerMixin\n",
    "from future_encoders import OneHotEncoder\n",
    "from scipy.sparse import hstack\n",
    "\n",
    "#Below class selects the Dataframe column attributes, will be used to select the numerical and categorical columns\n",
    "#So that they can be isolated and prepared seperately as they have different preperation steps\n",
    "\n",
    "class DataFrameSelector(BaseEstimator, TransformerMixin):\n",
    "    def __init__(self, attribute_names):\n",
    "        self.attribute_names = attribute_names\n",
    "    def fit(self, X, y=None):\n",
    "        return self\n",
    "    def transform(self, X):\n",
    "        return pd.DataFrame(X[self.attribute_names].values, columns=self.attribute_names)\n",
    "\n",
    "#Below class creates encoded category features in a pandas dataframe\n",
    "\n",
    "class CategoryEncoder(BaseEstimator, TransformerMixin):\n",
    "    def __init__(self, is_series = False):\n",
    "        self.is_series = is_series\n",
    "    def fit(self, X, y=None):\n",
    "        return self\n",
    "    def transform(self, X):\n",
    "        encoder = OneHotEncoder(sparse=False)\n",
    "        first_iter = True\n",
    "        if self.is_series == False:\n",
    "            for i in X.columns:\n",
    "                if first_iter == True:\n",
    "                    X_i_encoded, X_i_categories = X[i].factorize()\n",
    "                    X_i_1hot = encoder.fit_transform(X_i_encoded.reshape(-1,1))\n",
    "                else:\n",
    "                    X_i_encoded, X_i_categories = X[i].factorize()\n",
    "                    X_i_1hot = hstack([X_i_1hot, encoder.fit_transform(X_i_encoded.reshape(-1,1))]).toarray()                                      \n",
    "            return X_i_1hot\n",
    "        else:\n",
    "            return encoder.fit_transform(X.reshape(-1,1))\n",
    "\n",
    "        \n"
   ]
  },
  {
   "cell_type": "markdown",
   "metadata": {},
   "source": [
    "#### Create a pipeline for the preperation steps so that we can automate the multiple steps"
   ]
  },
  {
   "cell_type": "code",
   "execution_count": 27,
   "metadata": {},
   "outputs": [],
   "source": [
    "#because the numerical and categorical columns need to be processed differently we split them\n",
    "#numerical gets processed using standard scaler, categorical gets processed using one hot encoder\n",
    "\n",
    "num_attribs = ['sq ft',\n",
    " 'rooms',\n",
    " 'Bathrooms',\n",
    " 'Bedrooms',\n",
    " 'Parking',\n",
    " 'Maintenance',\n",
    " 'Tax',\n",
    " '$/sqft',\n",
    " 'avg_room_size',\n",
    " 'maintenance_per_sqft',\n",
    " 'bedroom_to_totalRoom_ratio',\n",
    " 'bathroom_to_totalRoom_ratio']\n",
    "\n",
    "cat_attribs = ['House Type',\n",
    " 'Building/Neighbourhood']"
   ]
  },
  {
   "cell_type": "code",
   "execution_count": 28,
   "metadata": {},
   "outputs": [],
   "source": [
    "#let's put it all together by running the data preperation pipelines we built\n",
    "from sklearn.preprocessing import StandardScaler\n",
    "from sklearn.pipeline import Pipeline\n",
    "from sklearn.pipeline import FeatureUnion\n",
    "\n",
    "num_pipeline = Pipeline([\n",
    "    ('selector', DataFrameSelector(num_attribs)),\n",
    "    ('std_scaler', StandardScaler()),\n",
    "])\n",
    "cat_pipeline = Pipeline([\n",
    "    ('selector', DataFrameSelector(cat_attribs)),\n",
    "    ('cat_encoder', CategoryEncoder()),\n",
    "])\n",
    "\n",
    "\n",
    "full_pipeline = FeatureUnion(transformer_list=[\n",
    "    (\"num_pipeline\", num_pipeline),\n",
    "    (\"cat_pipeline\", cat_pipeline),\n",
    "])"
   ]
  },
  {
   "cell_type": "markdown",
   "metadata": {},
   "source": [
    "#### Create x and y matrices for train set and test set"
   ]
  },
  {
   "cell_type": "code",
   "execution_count": 29,
   "metadata": {},
   "outputs": [],
   "source": [
    "X = df.drop(\"Cost\", axis=1)\n",
    "y = df[\"Cost\"].copy()"
   ]
  },
  {
   "cell_type": "code",
   "execution_count": 30,
   "metadata": {},
   "outputs": [],
   "source": [
    "#new way is to use a class from scikit learn called stratifiedsplit which will split while keeping distribution between the train\n",
    "#and test set the same accross a certain feature...in this case the Cost category of the house which is in 50K intervals\n",
    "\n",
    "X_prepared = full_pipeline.fit_transform(X)\n",
    "\n",
    "df[\"Cost_cat\"] = np.ceil(df['Cost']/50000)\n",
    "\n",
    "from sklearn.model_selection import StratifiedShuffleSplit\n",
    "\n",
    "split = StratifiedShuffleSplit(n_splits=1, test_size=0.2, random_state=42)\n",
    "for train_index, test_index in split.split(df, df[\"Cost_cat\"]):\n",
    "    X_train, X_test = X_prepared[train_index], X_prepared[test_index]\n",
    "    y_train, y_test = y[train_index], y[test_index]\n",
    "    \n",
    "    "
   ]
  },
  {
   "cell_type": "code",
   "execution_count": 31,
   "metadata": {},
   "outputs": [],
   "source": [
    "#only needed Cost_cat column for StratifiedShuffleSplit, can remove now\n",
    "df.drop(\"Cost_cat\", axis=1, inplace=True)"
   ]
  },
  {
   "cell_type": "markdown",
   "metadata": {},
   "source": [
    "#### Train a linear regression model"
   ]
  },
  {
   "cell_type": "code",
   "execution_count": 32,
   "metadata": {},
   "outputs": [
    {
     "data": {
      "text/plain": [
       "DecisionTreeRegressor(criterion='mse', max_depth=None, max_features=None,\n",
       "           max_leaf_nodes=None, min_impurity_decrease=0.0,\n",
       "           min_impurity_split=None, min_samples_leaf=1,\n",
       "           min_samples_split=2, min_weight_fraction_leaf=0.0,\n",
       "           presort=False, random_state=None, splitter='best')"
      ]
     },
     "execution_count": 32,
     "metadata": {},
     "output_type": "execute_result"
    }
   ],
   "source": [
    "lin_reg = linear_model.LinearRegression()\n",
    "lin_reg.fit(X_train, y_train)\n",
    "tree_reg = DecisionTreeRegressor()\n",
    "tree_reg.fit(X_train, y_train)"
   ]
  },
  {
   "cell_type": "markdown",
   "metadata": {},
   "source": [
    "#### Predict using test data to guage accuracy of model"
   ]
  },
  {
   "cell_type": "code",
   "execution_count": 33,
   "metadata": {},
   "outputs": [
    {
     "data": {
      "text/plain": [
       "3.891665607264243e+16"
      ]
     },
     "execution_count": 33,
     "metadata": {},
     "output_type": "execute_result"
    }
   ],
   "source": [
    "housing_predictions = lin_reg.predict(X_test)\n",
    "lin_mse = mean_squared_error(y_test, housing_predictions)\n",
    "lin_rmse = np.sqrt(lin_mse)\n",
    "lin_rmse"
   ]
  },
  {
   "cell_type": "markdown",
   "metadata": {},
   "source": [
    "#### The lin regressions seems way too off...there might be some features in here making it go off the charts. Let's look at some examples predicted vs the test set"
   ]
  },
  {
   "cell_type": "code",
   "execution_count": 50,
   "metadata": {},
   "outputs": [
    {
     "name": "stdout",
     "output_type": "stream",
     "text": [
      "The zipped result is : {(587408.0, 589800.0), (420816.0, 425000.0), (-1.2033697579866758e+17, 549900.0), (371376.0, 379900.0), (501552.0, 475000.0), (450144.0, 449000.0), (-1.167824084143542e+17, 524900.0), (416480.0, 419900.0), (444912.0, 449990.0), (542400.0, 556000.0), (469184.0, 471000.0), (427872.0, 435000.0), (378320.0, 379990.0), (377696.0, 370000.0), (571760.0, 576000.0), (448576.0, 449000.0), (404000.0, 399900.0), (480928.0, 479900.0), (-1.0566737375674509e+17, 459900.0), (568736.0, 572000.0), (409024.0, 408000.0), (424528.0, 424900.0), (347136.0, 347000.0), (538368.0, 549900.0), (449952.0, 449900.0), (502576.0, 499900.0), (364864.0, 374800.0), (505968.0, 500000.0), (401408.0, 405000.0), (-4.721891267058172e+16, 472900.0), (438400.0, 439900.0), (410944.0, 409900.0), (440496.0, 439900.0), (-9.118381271328755e+16, 465900.0), (401584.0, 400000.0), (-6.850835251409889e+16, 529900.0)}\n"
     ]
    }
   ],
   "source": [
    "mapped = zip (housing_predictions, y_test)\n",
    "mapped = set(mapped)\n",
    "print (\"The zipped result is : \",end=\"\")\n",
    "print (mapped)"
   ]
  },
  {
   "cell_type": "markdown",
   "metadata": {},
   "source": [
    "#### As you can see above some of the predictions are way off, while some being very close, let's try using a different regressor with decision trees"
   ]
  },
  {
   "cell_type": "code",
   "execution_count": 51,
   "metadata": {},
   "outputs": [
    {
     "data": {
      "text/plain": [
       "26342.828986272525"
      ]
     },
     "execution_count": 51,
     "metadata": {},
     "output_type": "execute_result"
    }
   ],
   "source": [
    "housing_predictions_tree = tree_reg.predict(X_test)\n",
    "tree_mse = mean_squared_error(y_test, housing_predictions_tree)\n",
    "tree_rmse = np.sqrt(tree_mse)\n",
    "tree_rmse"
   ]
  },
  {
   "cell_type": "markdown",
   "metadata": {},
   "source": [
    "#### seems much better, maybe we can use a hybrid of the above and below to predict the house prices, let's see how the predictions stack against the real data"
   ]
  },
  {
   "cell_type": "code",
   "execution_count": 52,
   "metadata": {},
   "outputs": [
    {
     "name": "stdout",
     "output_type": "stream",
     "text": [
      "The zipped result is : {(374800.0, 374800.0), (500000.0, 500000.0), (409900.0, 409900.0), (435000.0, 435000.0), (498800.0, 465900.0), (424202.0, 405000.0), (424900.0, 425000.0), (424900.0, 424900.0), (412500.0, 408000.0), (448000.0, 449990.0), (370000.0, 379990.0), (539900.0, 572000.0), (389900.0, 399900.0), (429000.0, 370000.0), (489900.0, 499900.0), (435000.0, 400000.0), (566000.0, 549900.0), (548000.0, 556000.0), (576000.0, 576000.0), (529000.0, 549900.0), (510000.0, 524900.0), (539900.0, 589800.0), (534900.0, 479900.0), (489900.0, 472900.0), (410000.0, 471000.0), (510000.0, 529900.0), (418500.0, 419900.0), (399000.0, 379900.0), (449000.0, 449900.0), (399000.0, 459900.0), (439900.0, 439900.0), (348000.0, 347000.0), (449000.0, 449000.0), (524900.0, 475000.0)}\n"
     ]
    }
   ],
   "source": [
    "mapped_tree = zip (housing_predictions_tree, y_test)\n",
    "mapped_tree = set(mapped_tree)\n",
    "print (\"The zipped result is : \",end=\"\")\n",
    "print (mapped_tree)"
   ]
  },
  {
   "cell_type": "code",
   "execution_count": null,
   "metadata": {},
   "outputs": [],
   "source": []
  }
 ],
 "metadata": {
  "kernelspec": {
   "display_name": "Python 3",
   "language": "python",
   "name": "python3"
  },
  "language_info": {
   "codemirror_mode": {
    "name": "ipython",
    "version": 3
   },
   "file_extension": ".py",
   "mimetype": "text/x-python",
   "name": "python",
   "nbconvert_exporter": "python",
   "pygments_lexer": "ipython3",
   "version": "3.6.5"
  }
 },
 "nbformat": 4,
 "nbformat_minor": 1
}
