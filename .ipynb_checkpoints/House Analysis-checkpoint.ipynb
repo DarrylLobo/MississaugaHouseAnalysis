{
 "cells": [
  {
   "cell_type": "code",
   "execution_count": 1,
   "metadata": {},
   "outputs": [],
   "source": [
    "#data analysis\n",
    "import pandas as pd\n",
    "import numpy as np\n",
    "import random as rnd"
   ]
  },
  {
   "cell_type": "code",
   "execution_count": 2,
   "metadata": {},
   "outputs": [],
   "source": [
    "#data visulaization\n",
    "#import seaborn as sns\n",
    "import matplotlib.pyplot as plt\n",
    "%matplotlib inline\n",
    "\n",
    "\n",
    "#machine learning\n",
    "from sklearn import linear_model\n",
    "from sklearn.linear_model import LogisticRegression\n",
    "from sklearn.svm import SVC, LinearSVC\n",
    "from sklearn.ensemble import RandomForestClassifier\n",
    "from sklearn.neighbors import KNeighborsClassifier\n",
    "from sklearn.naive_bayes import GaussianNB\n",
    "from sklearn.linear_model import Perceptron\n",
    "from sklearn.linear_model import SGDClassifier\n",
    "from sklearn.tree import DecisionTreeClassifier\n",
    "\n",
    "\n",
    "#sklearn accuracy libs\n",
    "from sklearn.metrics import mean_squared_error, r2_score"
   ]
  },
  {
   "cell_type": "code",
   "execution_count": 3,
   "metadata": {},
   "outputs": [],
   "source": [
    "df = pd.read_csv('Training.csv')"
   ]
  },
  {
   "cell_type": "code",
   "execution_count": 4,
   "metadata": {},
   "outputs": [
    {
     "data": {
      "text/plain": [
       "array(['House ID', 'House Type', 'Address', 'Address (city)', 'sq ft',\n",
       "       'rooms', 'Bathrooms', 'Bedrooms', 'Parking', 'Maintenance', 'Tax',\n",
       "       'Cost', '$/sqft', 'Sold/Listed (s/l)', 'Building/Neighbourhood',\n",
       "       'Date_listed'], dtype=object)"
      ]
     },
     "execution_count": 4,
     "metadata": {},
     "output_type": "execute_result"
    }
   ],
   "source": [
    "df.columns.values"
   ]
  },
  {
   "cell_type": "code",
   "execution_count": 5,
   "metadata": {},
   "outputs": [
    {
     "name": "stdout",
     "output_type": "stream",
     "text": [
      "<class 'pandas.core.frame.DataFrame'>\n",
      "RangeIndex: 161 entries, 0 to 160\n",
      "Data columns (total 16 columns):\n",
      "House ID                  161 non-null int64\n",
      "House Type                161 non-null object\n",
      "Address                   161 non-null object\n",
      "Address (city)            161 non-null object\n",
      "sq ft                     161 non-null int64\n",
      "rooms                     161 non-null int64\n",
      "Bathrooms                 161 non-null int64\n",
      "Bedrooms                  161 non-null int64\n",
      "Parking                   161 non-null int64\n",
      "Maintenance               161 non-null object\n",
      "Tax                       161 non-null object\n",
      "Cost                      161 non-null object\n",
      "$/sqft                    161 non-null object\n",
      "Sold/Listed (s/l)         161 non-null object\n",
      "Building/Neighbourhood    161 non-null object\n",
      "Date_listed               161 non-null object\n",
      "dtypes: int64(6), object(10)\n",
      "memory usage: 20.2+ KB\n"
     ]
    }
   ],
   "source": [
    "df.info()\n"
   ]
  },
  {
   "cell_type": "code",
   "execution_count": 6,
   "metadata": {},
   "outputs": [],
   "source": [
    "# changing this columns from categories to FLoats\n",
    "\n",
    "df['Cost'] = df[df.columns[11:12]].replace('[\\$,]', '', regex=True).astype(float)\n",
    "df['$/sqft'] = df[df.columns[12:13]].replace('[\\$,]', '', regex=True).astype(float)\n",
    "df['Tax'] = df[df.columns[10:11]].replace('[\\$,]', '', regex=True).astype(float)\n",
    "df['Maintenance'] = df[df.columns[9:10]].replace('[\\$,]', '', regex=True).astype(float)\n"
   ]
  },
  {
   "cell_type": "code",
   "execution_count": 7,
   "metadata": {},
   "outputs": [
    {
     "data": {
      "text/html": [
       "<div>\n",
       "<style scoped>\n",
       "    .dataframe tbody tr th:only-of-type {\n",
       "        vertical-align: middle;\n",
       "    }\n",
       "\n",
       "    .dataframe tbody tr th {\n",
       "        vertical-align: top;\n",
       "    }\n",
       "\n",
       "    .dataframe thead th {\n",
       "        text-align: right;\n",
       "    }\n",
       "</style>\n",
       "<table border=\"1\" class=\"dataframe\">\n",
       "  <thead>\n",
       "    <tr style=\"text-align: right;\">\n",
       "      <th></th>\n",
       "      <th>House ID</th>\n",
       "      <th>sq ft</th>\n",
       "      <th>rooms</th>\n",
       "      <th>Bathrooms</th>\n",
       "      <th>Bedrooms</th>\n",
       "      <th>Parking</th>\n",
       "      <th>Maintenance</th>\n",
       "      <th>Tax</th>\n",
       "      <th>Cost</th>\n",
       "      <th>$/sqft</th>\n",
       "    </tr>\n",
       "  </thead>\n",
       "  <tbody>\n",
       "    <tr>\n",
       "      <th>count</th>\n",
       "      <td>161.000000</td>\n",
       "      <td>161.000000</td>\n",
       "      <td>161.000000</td>\n",
       "      <td>161.000000</td>\n",
       "      <td>161.000000</td>\n",
       "      <td>161.000000</td>\n",
       "      <td>161.000000</td>\n",
       "      <td>161.000000</td>\n",
       "      <td>161.000000</td>\n",
       "      <td>161.000000</td>\n",
       "    </tr>\n",
       "    <tr>\n",
       "      <th>mean</th>\n",
       "      <td>82.093168</td>\n",
       "      <td>1170.832298</td>\n",
       "      <td>6.167702</td>\n",
       "      <td>1.950311</td>\n",
       "      <td>2.105590</td>\n",
       "      <td>2.024845</td>\n",
       "      <td>750.011491</td>\n",
       "      <td>2222.663602</td>\n",
       "      <td>451745.335404</td>\n",
       "      <td>389.804969</td>\n",
       "    </tr>\n",
       "    <tr>\n",
       "      <th>std</th>\n",
       "      <td>47.423860</td>\n",
       "      <td>151.821945</td>\n",
       "      <td>0.830933</td>\n",
       "      <td>0.509917</td>\n",
       "      <td>0.308271</td>\n",
       "      <td>0.432295</td>\n",
       "      <td>170.563571</td>\n",
       "      <td>450.633186</td>\n",
       "      <td>64378.312473</td>\n",
       "      <td>60.367146</td>\n",
       "    </tr>\n",
       "    <tr>\n",
       "      <th>min</th>\n",
       "      <td>1.000000</td>\n",
       "      <td>850.000000</td>\n",
       "      <td>5.000000</td>\n",
       "      <td>1.000000</td>\n",
       "      <td>2.000000</td>\n",
       "      <td>0.000000</td>\n",
       "      <td>133.000000</td>\n",
       "      <td>1477.710000</td>\n",
       "      <td>325000.000000</td>\n",
       "      <td>265.380000</td>\n",
       "    </tr>\n",
       "    <tr>\n",
       "      <th>25%</th>\n",
       "      <td>41.000000</td>\n",
       "      <td>1100.000000</td>\n",
       "      <td>6.000000</td>\n",
       "      <td>2.000000</td>\n",
       "      <td>2.000000</td>\n",
       "      <td>2.000000</td>\n",
       "      <td>648.210000</td>\n",
       "      <td>1884.310000</td>\n",
       "      <td>409999.000000</td>\n",
       "      <td>342.860000</td>\n",
       "    </tr>\n",
       "    <tr>\n",
       "      <th>50%</th>\n",
       "      <td>82.000000</td>\n",
       "      <td>1100.000000</td>\n",
       "      <td>6.000000</td>\n",
       "      <td>2.000000</td>\n",
       "      <td>2.000000</td>\n",
       "      <td>2.000000</td>\n",
       "      <td>785.000000</td>\n",
       "      <td>2144.670000</td>\n",
       "      <td>435000.000000</td>\n",
       "      <td>386.360000</td>\n",
       "    </tr>\n",
       "    <tr>\n",
       "      <th>75%</th>\n",
       "      <td>123.000000</td>\n",
       "      <td>1300.000000</td>\n",
       "      <td>6.000000</td>\n",
       "      <td>2.000000</td>\n",
       "      <td>2.000000</td>\n",
       "      <td>2.000000</td>\n",
       "      <td>843.570000</td>\n",
       "      <td>2337.900000</td>\n",
       "      <td>489900.000000</td>\n",
       "      <td>427.690000</td>\n",
       "    </tr>\n",
       "    <tr>\n",
       "      <th>max</th>\n",
       "      <td>163.000000</td>\n",
       "      <td>1650.000000</td>\n",
       "      <td>10.000000</td>\n",
       "      <td>4.000000</td>\n",
       "      <td>3.000000</td>\n",
       "      <td>3.000000</td>\n",
       "      <td>1244.590000</td>\n",
       "      <td>3873.000000</td>\n",
       "      <td>599999.000000</td>\n",
       "      <td>588.120000</td>\n",
       "    </tr>\n",
       "  </tbody>\n",
       "</table>\n",
       "</div>"
      ],
      "text/plain": [
       "         House ID        sq ft       rooms   Bathrooms    Bedrooms  \\\n",
       "count  161.000000   161.000000  161.000000  161.000000  161.000000   \n",
       "mean    82.093168  1170.832298    6.167702    1.950311    2.105590   \n",
       "std     47.423860   151.821945    0.830933    0.509917    0.308271   \n",
       "min      1.000000   850.000000    5.000000    1.000000    2.000000   \n",
       "25%     41.000000  1100.000000    6.000000    2.000000    2.000000   \n",
       "50%     82.000000  1100.000000    6.000000    2.000000    2.000000   \n",
       "75%    123.000000  1300.000000    6.000000    2.000000    2.000000   \n",
       "max    163.000000  1650.000000   10.000000    4.000000    3.000000   \n",
       "\n",
       "          Parking  Maintenance          Tax           Cost      $/sqft  \n",
       "count  161.000000   161.000000   161.000000     161.000000  161.000000  \n",
       "mean     2.024845   750.011491  2222.663602  451745.335404  389.804969  \n",
       "std      0.432295   170.563571   450.633186   64378.312473   60.367146  \n",
       "min      0.000000   133.000000  1477.710000  325000.000000  265.380000  \n",
       "25%      2.000000   648.210000  1884.310000  409999.000000  342.860000  \n",
       "50%      2.000000   785.000000  2144.670000  435000.000000  386.360000  \n",
       "75%      2.000000   843.570000  2337.900000  489900.000000  427.690000  \n",
       "max      3.000000  1244.590000  3873.000000  599999.000000  588.120000  "
      ]
     },
     "execution_count": 7,
     "metadata": {},
     "output_type": "execute_result"
    }
   ],
   "source": [
    "df.describe()"
   ]
  },
  {
   "cell_type": "code",
   "execution_count": 8,
   "metadata": {},
   "outputs": [
    {
     "data": {
      "text/html": [
       "<div>\n",
       "<style scoped>\n",
       "    .dataframe tbody tr th:only-of-type {\n",
       "        vertical-align: middle;\n",
       "    }\n",
       "\n",
       "    .dataframe tbody tr th {\n",
       "        vertical-align: top;\n",
       "    }\n",
       "\n",
       "    .dataframe thead th {\n",
       "        text-align: right;\n",
       "    }\n",
       "</style>\n",
       "<table border=\"1\" class=\"dataframe\">\n",
       "  <thead>\n",
       "    <tr style=\"text-align: right;\">\n",
       "      <th></th>\n",
       "      <th>sq ft</th>\n",
       "      <th>Cost</th>\n",
       "    </tr>\n",
       "  </thead>\n",
       "  <tbody>\n",
       "    <tr>\n",
       "      <th>9</th>\n",
       "      <td>1342</td>\n",
       "      <td>585000.000000</td>\n",
       "    </tr>\n",
       "    <tr>\n",
       "      <th>12</th>\n",
       "      <td>1403</td>\n",
       "      <td>572000.000000</td>\n",
       "    </tr>\n",
       "    <tr>\n",
       "      <th>14</th>\n",
       "      <td>1600</td>\n",
       "      <td>569000.000000</td>\n",
       "    </tr>\n",
       "    <tr>\n",
       "      <th>15</th>\n",
       "      <td>1650</td>\n",
       "      <td>559000.000000</td>\n",
       "    </tr>\n",
       "    <tr>\n",
       "      <th>13</th>\n",
       "      <td>1500</td>\n",
       "      <td>523175.000000</td>\n",
       "    </tr>\n",
       "    <tr>\n",
       "      <th>6</th>\n",
       "      <td>1227</td>\n",
       "      <td>498800.000000</td>\n",
       "    </tr>\n",
       "    <tr>\n",
       "      <th>11</th>\n",
       "      <td>1400</td>\n",
       "      <td>480000.000000</td>\n",
       "    </tr>\n",
       "    <tr>\n",
       "      <th>8</th>\n",
       "      <td>1300</td>\n",
       "      <td>462332.791667</td>\n",
       "    </tr>\n",
       "    <tr>\n",
       "      <th>4</th>\n",
       "      <td>1160</td>\n",
       "      <td>448000.000000</td>\n",
       "    </tr>\n",
       "    <tr>\n",
       "      <th>10</th>\n",
       "      <td>1395</td>\n",
       "      <td>448000.000000</td>\n",
       "    </tr>\n",
       "    <tr>\n",
       "      <th>3</th>\n",
       "      <td>1100</td>\n",
       "      <td>442432.640000</td>\n",
       "    </tr>\n",
       "    <tr>\n",
       "      <th>5</th>\n",
       "      <td>1200</td>\n",
       "      <td>435949.750000</td>\n",
       "    </tr>\n",
       "    <tr>\n",
       "      <th>2</th>\n",
       "      <td>1000</td>\n",
       "      <td>435000.000000</td>\n",
       "    </tr>\n",
       "    <tr>\n",
       "      <th>0</th>\n",
       "      <td>850</td>\n",
       "      <td>434966.666667</td>\n",
       "    </tr>\n",
       "    <tr>\n",
       "      <th>7</th>\n",
       "      <td>1250</td>\n",
       "      <td>419900.000000</td>\n",
       "    </tr>\n",
       "    <tr>\n",
       "      <th>1</th>\n",
       "      <td>950</td>\n",
       "      <td>403148.166667</td>\n",
       "    </tr>\n",
       "  </tbody>\n",
       "</table>\n",
       "</div>"
      ],
      "text/plain": [
       "    sq ft           Cost\n",
       "9    1342  585000.000000\n",
       "12   1403  572000.000000\n",
       "14   1600  569000.000000\n",
       "15   1650  559000.000000\n",
       "13   1500  523175.000000\n",
       "6    1227  498800.000000\n",
       "11   1400  480000.000000\n",
       "8    1300  462332.791667\n",
       "4    1160  448000.000000\n",
       "10   1395  448000.000000\n",
       "3    1100  442432.640000\n",
       "5    1200  435949.750000\n",
       "2    1000  435000.000000\n",
       "0     850  434966.666667\n",
       "7    1250  419900.000000\n",
       "1     950  403148.166667"
      ]
     },
     "execution_count": 8,
     "metadata": {},
     "output_type": "execute_result"
    }
   ],
   "source": [
    "df[['sq ft', 'Cost']].groupby(['sq ft'], as_index=False).mean().sort_values(by='Cost', ascending=False)"
   ]
  },
  {
   "cell_type": "code",
   "execution_count": 9,
   "metadata": {},
   "outputs": [
    {
     "data": {
      "text/html": [
       "<div>\n",
       "<style scoped>\n",
       "    .dataframe tbody tr th:only-of-type {\n",
       "        vertical-align: middle;\n",
       "    }\n",
       "\n",
       "    .dataframe tbody tr th {\n",
       "        vertical-align: top;\n",
       "    }\n",
       "\n",
       "    .dataframe thead th {\n",
       "        text-align: right;\n",
       "    }\n",
       "</style>\n",
       "<table border=\"1\" class=\"dataframe\">\n",
       "  <thead>\n",
       "    <tr style=\"text-align: right;\">\n",
       "      <th></th>\n",
       "      <th>rooms</th>\n",
       "      <th>Cost</th>\n",
       "    </tr>\n",
       "  </thead>\n",
       "  <tbody>\n",
       "    <tr>\n",
       "      <th>4</th>\n",
       "      <td>9</td>\n",
       "      <td>524900.000000</td>\n",
       "    </tr>\n",
       "    <tr>\n",
       "      <th>3</th>\n",
       "      <td>8</td>\n",
       "      <td>523169.800000</td>\n",
       "    </tr>\n",
       "    <tr>\n",
       "      <th>5</th>\n",
       "      <td>10</td>\n",
       "      <td>519950.000000</td>\n",
       "    </tr>\n",
       "    <tr>\n",
       "      <th>1</th>\n",
       "      <td>6</td>\n",
       "      <td>448380.359649</td>\n",
       "    </tr>\n",
       "    <tr>\n",
       "      <th>2</th>\n",
       "      <td>7</td>\n",
       "      <td>442340.000000</td>\n",
       "    </tr>\n",
       "    <tr>\n",
       "      <th>0</th>\n",
       "      <td>5</td>\n",
       "      <td>430738.947368</td>\n",
       "    </tr>\n",
       "  </tbody>\n",
       "</table>\n",
       "</div>"
      ],
      "text/plain": [
       "   rooms           Cost\n",
       "4      9  524900.000000\n",
       "3      8  523169.800000\n",
       "5     10  519950.000000\n",
       "1      6  448380.359649\n",
       "2      7  442340.000000\n",
       "0      5  430738.947368"
      ]
     },
     "execution_count": 9,
     "metadata": {},
     "output_type": "execute_result"
    }
   ],
   "source": [
    "df[['rooms', 'Cost']].groupby(['rooms'], as_index=False).mean().sort_values(by='Cost', ascending=False)"
   ]
  },
  {
   "cell_type": "code",
   "execution_count": 10,
   "metadata": {},
   "outputs": [
    {
     "data": {
      "text/html": [
       "<div>\n",
       "<style scoped>\n",
       "    .dataframe tbody tr th:only-of-type {\n",
       "        vertical-align: middle;\n",
       "    }\n",
       "\n",
       "    .dataframe tbody tr th {\n",
       "        vertical-align: top;\n",
       "    }\n",
       "\n",
       "    .dataframe thead th {\n",
       "        text-align: right;\n",
       "    }\n",
       "</style>\n",
       "<table border=\"1\" class=\"dataframe\">\n",
       "  <thead>\n",
       "    <tr style=\"text-align: right;\">\n",
       "      <th></th>\n",
       "      <th>Bathrooms</th>\n",
       "      <th>Cost</th>\n",
       "    </tr>\n",
       "  </thead>\n",
       "  <tbody>\n",
       "    <tr>\n",
       "      <th>3</th>\n",
       "      <td>4</td>\n",
       "      <td>565966.666667</td>\n",
       "    </tr>\n",
       "    <tr>\n",
       "      <th>2</th>\n",
       "      <td>3</td>\n",
       "      <td>560987.125000</td>\n",
       "    </tr>\n",
       "    <tr>\n",
       "      <th>1</th>\n",
       "      <td>2</td>\n",
       "      <td>449377.140625</td>\n",
       "    </tr>\n",
       "    <tr>\n",
       "      <th>0</th>\n",
       "      <td>1</td>\n",
       "      <td>410224.000000</td>\n",
       "    </tr>\n",
       "  </tbody>\n",
       "</table>\n",
       "</div>"
      ],
      "text/plain": [
       "   Bathrooms           Cost\n",
       "3          4  565966.666667\n",
       "2          3  560987.125000\n",
       "1          2  449377.140625\n",
       "0          1  410224.000000"
      ]
     },
     "execution_count": 10,
     "metadata": {},
     "output_type": "execute_result"
    }
   ],
   "source": [
    "df[['Bathrooms', 'Cost']].groupby(['Bathrooms'], as_index=False).mean().sort_values(by='Cost', ascending=False)"
   ]
  },
  {
   "cell_type": "code",
   "execution_count": 11,
   "metadata": {},
   "outputs": [
    {
     "data": {
      "text/html": [
       "<div>\n",
       "<style scoped>\n",
       "    .dataframe tbody tr th:only-of-type {\n",
       "        vertical-align: middle;\n",
       "    }\n",
       "\n",
       "    .dataframe tbody tr th {\n",
       "        vertical-align: top;\n",
       "    }\n",
       "\n",
       "    .dataframe thead th {\n",
       "        text-align: right;\n",
       "    }\n",
       "</style>\n",
       "<table border=\"1\" class=\"dataframe\">\n",
       "  <thead>\n",
       "    <tr style=\"text-align: right;\">\n",
       "      <th></th>\n",
       "      <th>House ID</th>\n",
       "      <th>House Type</th>\n",
       "      <th>Address</th>\n",
       "      <th>Address (city)</th>\n",
       "      <th>sq ft</th>\n",
       "      <th>rooms</th>\n",
       "      <th>Bathrooms</th>\n",
       "      <th>Bedrooms</th>\n",
       "      <th>Parking</th>\n",
       "      <th>Maintenance</th>\n",
       "      <th>Tax</th>\n",
       "      <th>Cost</th>\n",
       "      <th>$/sqft</th>\n",
       "      <th>Sold/Listed (s/l)</th>\n",
       "      <th>Building/Neighbourhood</th>\n",
       "      <th>Date_listed</th>\n",
       "    </tr>\n",
       "  </thead>\n",
       "  <tbody>\n",
       "    <tr>\n",
       "      <th>0</th>\n",
       "      <td>1</td>\n",
       "      <td>Condo</td>\n",
       "      <td>3650 Kaneff Cres 1704\\n Mississauga Ontario L5...</td>\n",
       "      <td>Mississauga</td>\n",
       "      <td>1300</td>\n",
       "      <td>6</td>\n",
       "      <td>2</td>\n",
       "      <td>2</td>\n",
       "      <td>1</td>\n",
       "      <td>807.55</td>\n",
       "      <td>2168.00</td>\n",
       "      <td>387000.0</td>\n",
       "      <td>297.69</td>\n",
       "      <td>s</td>\n",
       "      <td>3650 Kaneff Cres</td>\n",
       "      <td>1/31/2017</td>\n",
       "    </tr>\n",
       "    <tr>\n",
       "      <th>1</th>\n",
       "      <td>2</td>\n",
       "      <td>Condo</td>\n",
       "      <td>3650 Kaneff Cres 1704\\n Mississauga Ontario L5...</td>\n",
       "      <td>Mississauga</td>\n",
       "      <td>1300</td>\n",
       "      <td>6</td>\n",
       "      <td>2</td>\n",
       "      <td>2</td>\n",
       "      <td>1</td>\n",
       "      <td>807.55</td>\n",
       "      <td>2163.77</td>\n",
       "      <td>406000.0</td>\n",
       "      <td>312.31</td>\n",
       "      <td>s</td>\n",
       "      <td>3650 Kaneff Cres</td>\n",
       "      <td>2/1/2017</td>\n",
       "    </tr>\n",
       "    <tr>\n",
       "      <th>2</th>\n",
       "      <td>3</td>\n",
       "      <td>Condo</td>\n",
       "      <td>3650 Kaneff Cres 1802\\n Mississauga Ontario L5...</td>\n",
       "      <td>Mississauga</td>\n",
       "      <td>1300</td>\n",
       "      <td>6</td>\n",
       "      <td>2</td>\n",
       "      <td>2</td>\n",
       "      <td>2</td>\n",
       "      <td>798.00</td>\n",
       "      <td>2174.39</td>\n",
       "      <td>434500.0</td>\n",
       "      <td>334.23</td>\n",
       "      <td>s</td>\n",
       "      <td>3650 Kaneff Cres</td>\n",
       "      <td>2/2/2017</td>\n",
       "    </tr>\n",
       "    <tr>\n",
       "      <th>3</th>\n",
       "      <td>4</td>\n",
       "      <td>Condo</td>\n",
       "      <td>3650 Kaneff Cres 1802\\n Mississauga Ontario L5...</td>\n",
       "      <td>Mississauga</td>\n",
       "      <td>1300</td>\n",
       "      <td>6</td>\n",
       "      <td>2</td>\n",
       "      <td>2</td>\n",
       "      <td>2</td>\n",
       "      <td>770.80</td>\n",
       "      <td>2168.03</td>\n",
       "      <td>385000.0</td>\n",
       "      <td>296.15</td>\n",
       "      <td>s</td>\n",
       "      <td>3650 Kaneff Cres</td>\n",
       "      <td>2/3/2017</td>\n",
       "    </tr>\n",
       "    <tr>\n",
       "      <th>4</th>\n",
       "      <td>5</td>\n",
       "      <td>Condo</td>\n",
       "      <td>3650 Kaneff Cres 1802\\n Mississauga Ontario L5...</td>\n",
       "      <td>Mississauga</td>\n",
       "      <td>1300</td>\n",
       "      <td>7</td>\n",
       "      <td>2</td>\n",
       "      <td>2</td>\n",
       "      <td>2</td>\n",
       "      <td>795.87</td>\n",
       "      <td>2180.00</td>\n",
       "      <td>425000.0</td>\n",
       "      <td>326.92</td>\n",
       "      <td>s</td>\n",
       "      <td>3650 Kaneff Cres</td>\n",
       "      <td>2/4/2017</td>\n",
       "    </tr>\n",
       "  </tbody>\n",
       "</table>\n",
       "</div>"
      ],
      "text/plain": [
       "   House ID House Type                                            Address  \\\n",
       "0         1      Condo  3650 Kaneff Cres 1704\\n Mississauga Ontario L5...   \n",
       "1         2      Condo  3650 Kaneff Cres 1704\\n Mississauga Ontario L5...   \n",
       "2         3      Condo  3650 Kaneff Cres 1802\\n Mississauga Ontario L5...   \n",
       "3         4      Condo  3650 Kaneff Cres 1802\\n Mississauga Ontario L5...   \n",
       "4         5      Condo  3650 Kaneff Cres 1802\\n Mississauga Ontario L5...   \n",
       "\n",
       "  Address (city)  sq ft  rooms  Bathrooms  Bedrooms  Parking  Maintenance  \\\n",
       "0    Mississauga   1300      6          2         2        1       807.55   \n",
       "1    Mississauga   1300      6          2         2        1       807.55   \n",
       "2    Mississauga   1300      6          2         2        2       798.00   \n",
       "3    Mississauga   1300      6          2         2        2       770.80   \n",
       "4    Mississauga   1300      7          2         2        2       795.87   \n",
       "\n",
       "       Tax      Cost  $/sqft Sold/Listed (s/l) Building/Neighbourhood  \\\n",
       "0  2168.00  387000.0  297.69                 s       3650 Kaneff Cres   \n",
       "1  2163.77  406000.0  312.31                 s       3650 Kaneff Cres   \n",
       "2  2174.39  434500.0  334.23                 s       3650 Kaneff Cres   \n",
       "3  2168.03  385000.0  296.15                 s       3650 Kaneff Cres   \n",
       "4  2180.00  425000.0  326.92                 s       3650 Kaneff Cres   \n",
       "\n",
       "  Date_listed  \n",
       "0   1/31/2017  \n",
       "1    2/1/2017  \n",
       "2    2/2/2017  \n",
       "3    2/3/2017  \n",
       "4    2/4/2017  "
      ]
     },
     "execution_count": 11,
     "metadata": {},
     "output_type": "execute_result"
    }
   ],
   "source": [
    "df.head()"
   ]
  },
  {
   "cell_type": "code",
   "execution_count": 12,
   "metadata": {},
   "outputs": [],
   "source": [
    "df = df.drop(['Address', 'Address (city)', 'Sold/Listed (s/l)','Date_listed','House ID'], axis=1)"
   ]
  },
  {
   "cell_type": "code",
   "execution_count": 13,
   "metadata": {},
   "outputs": [
    {
     "data": {
      "text/html": [
       "<div>\n",
       "<style scoped>\n",
       "    .dataframe tbody tr th:only-of-type {\n",
       "        vertical-align: middle;\n",
       "    }\n",
       "\n",
       "    .dataframe tbody tr th {\n",
       "        vertical-align: top;\n",
       "    }\n",
       "\n",
       "    .dataframe thead th {\n",
       "        text-align: right;\n",
       "    }\n",
       "</style>\n",
       "<table border=\"1\" class=\"dataframe\">\n",
       "  <thead>\n",
       "    <tr style=\"text-align: right;\">\n",
       "      <th></th>\n",
       "      <th>sq ft</th>\n",
       "      <th>rooms</th>\n",
       "      <th>Bathrooms</th>\n",
       "      <th>Bedrooms</th>\n",
       "      <th>Parking</th>\n",
       "      <th>Maintenance</th>\n",
       "      <th>Tax</th>\n",
       "      <th>Cost</th>\n",
       "      <th>$/sqft</th>\n",
       "    </tr>\n",
       "  </thead>\n",
       "  <tbody>\n",
       "    <tr>\n",
       "      <th>count</th>\n",
       "      <td>161.000000</td>\n",
       "      <td>161.000000</td>\n",
       "      <td>161.000000</td>\n",
       "      <td>161.000000</td>\n",
       "      <td>161.000000</td>\n",
       "      <td>161.000000</td>\n",
       "      <td>161.000000</td>\n",
       "      <td>161.000000</td>\n",
       "      <td>161.000000</td>\n",
       "    </tr>\n",
       "    <tr>\n",
       "      <th>mean</th>\n",
       "      <td>1170.832298</td>\n",
       "      <td>6.167702</td>\n",
       "      <td>1.950311</td>\n",
       "      <td>2.105590</td>\n",
       "      <td>2.024845</td>\n",
       "      <td>750.011491</td>\n",
       "      <td>2222.663602</td>\n",
       "      <td>451745.335404</td>\n",
       "      <td>389.804969</td>\n",
       "    </tr>\n",
       "    <tr>\n",
       "      <th>std</th>\n",
       "      <td>151.821945</td>\n",
       "      <td>0.830933</td>\n",
       "      <td>0.509917</td>\n",
       "      <td>0.308271</td>\n",
       "      <td>0.432295</td>\n",
       "      <td>170.563571</td>\n",
       "      <td>450.633186</td>\n",
       "      <td>64378.312473</td>\n",
       "      <td>60.367146</td>\n",
       "    </tr>\n",
       "    <tr>\n",
       "      <th>min</th>\n",
       "      <td>850.000000</td>\n",
       "      <td>5.000000</td>\n",
       "      <td>1.000000</td>\n",
       "      <td>2.000000</td>\n",
       "      <td>0.000000</td>\n",
       "      <td>133.000000</td>\n",
       "      <td>1477.710000</td>\n",
       "      <td>325000.000000</td>\n",
       "      <td>265.380000</td>\n",
       "    </tr>\n",
       "    <tr>\n",
       "      <th>25%</th>\n",
       "      <td>1100.000000</td>\n",
       "      <td>6.000000</td>\n",
       "      <td>2.000000</td>\n",
       "      <td>2.000000</td>\n",
       "      <td>2.000000</td>\n",
       "      <td>648.210000</td>\n",
       "      <td>1884.310000</td>\n",
       "      <td>409999.000000</td>\n",
       "      <td>342.860000</td>\n",
       "    </tr>\n",
       "    <tr>\n",
       "      <th>50%</th>\n",
       "      <td>1100.000000</td>\n",
       "      <td>6.000000</td>\n",
       "      <td>2.000000</td>\n",
       "      <td>2.000000</td>\n",
       "      <td>2.000000</td>\n",
       "      <td>785.000000</td>\n",
       "      <td>2144.670000</td>\n",
       "      <td>435000.000000</td>\n",
       "      <td>386.360000</td>\n",
       "    </tr>\n",
       "    <tr>\n",
       "      <th>75%</th>\n",
       "      <td>1300.000000</td>\n",
       "      <td>6.000000</td>\n",
       "      <td>2.000000</td>\n",
       "      <td>2.000000</td>\n",
       "      <td>2.000000</td>\n",
       "      <td>843.570000</td>\n",
       "      <td>2337.900000</td>\n",
       "      <td>489900.000000</td>\n",
       "      <td>427.690000</td>\n",
       "    </tr>\n",
       "    <tr>\n",
       "      <th>max</th>\n",
       "      <td>1650.000000</td>\n",
       "      <td>10.000000</td>\n",
       "      <td>4.000000</td>\n",
       "      <td>3.000000</td>\n",
       "      <td>3.000000</td>\n",
       "      <td>1244.590000</td>\n",
       "      <td>3873.000000</td>\n",
       "      <td>599999.000000</td>\n",
       "      <td>588.120000</td>\n",
       "    </tr>\n",
       "  </tbody>\n",
       "</table>\n",
       "</div>"
      ],
      "text/plain": [
       "             sq ft       rooms   Bathrooms    Bedrooms     Parking  \\\n",
       "count   161.000000  161.000000  161.000000  161.000000  161.000000   \n",
       "mean   1170.832298    6.167702    1.950311    2.105590    2.024845   \n",
       "std     151.821945    0.830933    0.509917    0.308271    0.432295   \n",
       "min     850.000000    5.000000    1.000000    2.000000    0.000000   \n",
       "25%    1100.000000    6.000000    2.000000    2.000000    2.000000   \n",
       "50%    1100.000000    6.000000    2.000000    2.000000    2.000000   \n",
       "75%    1300.000000    6.000000    2.000000    2.000000    2.000000   \n",
       "max    1650.000000   10.000000    4.000000    3.000000    3.000000   \n",
       "\n",
       "       Maintenance          Tax           Cost      $/sqft  \n",
       "count   161.000000   161.000000     161.000000  161.000000  \n",
       "mean    750.011491  2222.663602  451745.335404  389.804969  \n",
       "std     170.563571   450.633186   64378.312473   60.367146  \n",
       "min     133.000000  1477.710000  325000.000000  265.380000  \n",
       "25%     648.210000  1884.310000  409999.000000  342.860000  \n",
       "50%     785.000000  2144.670000  435000.000000  386.360000  \n",
       "75%     843.570000  2337.900000  489900.000000  427.690000  \n",
       "max    1244.590000  3873.000000  599999.000000  588.120000  "
      ]
     },
     "execution_count": 13,
     "metadata": {},
     "output_type": "execute_result"
    }
   ],
   "source": [
    "df.describe()"
   ]
  },
  {
   "cell_type": "code",
   "execution_count": 14,
   "metadata": {},
   "outputs": [
    {
     "data": {
      "text/html": [
       "<div>\n",
       "<style scoped>\n",
       "    .dataframe tbody tr th:only-of-type {\n",
       "        vertical-align: middle;\n",
       "    }\n",
       "\n",
       "    .dataframe tbody tr th {\n",
       "        vertical-align: top;\n",
       "    }\n",
       "\n",
       "    .dataframe thead th {\n",
       "        text-align: right;\n",
       "    }\n",
       "</style>\n",
       "<table border=\"1\" class=\"dataframe\">\n",
       "  <thead>\n",
       "    <tr style=\"text-align: right;\">\n",
       "      <th></th>\n",
       "      <th>House Type</th>\n",
       "      <th>Building/Neighbourhood</th>\n",
       "    </tr>\n",
       "  </thead>\n",
       "  <tbody>\n",
       "    <tr>\n",
       "      <th>count</th>\n",
       "      <td>161</td>\n",
       "      <td>161</td>\n",
       "    </tr>\n",
       "    <tr>\n",
       "      <th>unique</th>\n",
       "      <td>2</td>\n",
       "      <td>43</td>\n",
       "    </tr>\n",
       "    <tr>\n",
       "      <th>top</th>\n",
       "      <td>Condo</td>\n",
       "      <td>250 Webb Dr</td>\n",
       "    </tr>\n",
       "    <tr>\n",
       "      <th>freq</th>\n",
       "      <td>152</td>\n",
       "      <td>16</td>\n",
       "    </tr>\n",
       "  </tbody>\n",
       "</table>\n",
       "</div>"
      ],
      "text/plain": [
       "       House Type Building/Neighbourhood\n",
       "count         161                    161\n",
       "unique          2                     43\n",
       "top         Condo            250 Webb Dr\n",
       "freq          152                     16"
      ]
     },
     "execution_count": 14,
     "metadata": {},
     "output_type": "execute_result"
    }
   ],
   "source": [
    "df.describe(include=['O'])"
   ]
  },
  {
   "cell_type": "code",
   "execution_count": 15,
   "metadata": {},
   "outputs": [
    {
     "data": {
      "text/html": [
       "<div>\n",
       "<style scoped>\n",
       "    .dataframe tbody tr th:only-of-type {\n",
       "        vertical-align: middle;\n",
       "    }\n",
       "\n",
       "    .dataframe tbody tr th {\n",
       "        vertical-align: top;\n",
       "    }\n",
       "\n",
       "    .dataframe thead th {\n",
       "        text-align: right;\n",
       "    }\n",
       "</style>\n",
       "<table border=\"1\" class=\"dataframe\">\n",
       "  <thead>\n",
       "    <tr style=\"text-align: right;\">\n",
       "      <th></th>\n",
       "      <th>House Type</th>\n",
       "      <th>sq ft</th>\n",
       "      <th>rooms</th>\n",
       "      <th>Bathrooms</th>\n",
       "      <th>Bedrooms</th>\n",
       "      <th>Parking</th>\n",
       "      <th>Maintenance</th>\n",
       "      <th>Tax</th>\n",
       "      <th>Cost</th>\n",
       "      <th>$/sqft</th>\n",
       "      <th>Building/Neighbourhood</th>\n",
       "    </tr>\n",
       "  </thead>\n",
       "  <tbody>\n",
       "  </tbody>\n",
       "</table>\n",
       "</div>"
      ],
      "text/plain": [
       "Empty DataFrame\n",
       "Columns: [House Type, sq ft, rooms, Bathrooms, Bedrooms, Parking, Maintenance, Tax, Cost, $/sqft, Building/Neighbourhood]\n",
       "Index: []"
      ]
     },
     "execution_count": 15,
     "metadata": {},
     "output_type": "execute_result"
    }
   ],
   "source": [
    "all_null_rows = df[df['Tax'].isnull()]\n",
    "all_null_rows"
   ]
  },
  {
   "cell_type": "code",
   "execution_count": 16,
   "metadata": {},
   "outputs": [],
   "source": [
    "#tax_guess = df[(df['$/sqft'] >= 340.00) & (df['$/sqft'] < 345.00)]['Tax'].dropna()"
   ]
  },
  {
   "cell_type": "code",
   "execution_count": 17,
   "metadata": {},
   "outputs": [],
   "source": [
    "#df['Tax'][12] = tax_guess.mean()"
   ]
  },
  {
   "cell_type": "code",
   "execution_count": 18,
   "metadata": {},
   "outputs": [],
   "source": [
    "#df['House Type'].drop_duplicates()\n",
    "#can name this and map it to a number however will use an inbuild scikit learn one hot encoder method\n",
    "#df['House Type'] = df['House Type'].map({'Apartment': 0, 'Condo/Town': 1, 'Condo': 2}).astype(int)"
   ]
  },
  {
   "cell_type": "markdown",
   "metadata": {},
   "source": [
    "## Some visualization to help build some intuition into how to apply machine learning"
   ]
  },
  {
   "cell_type": "code",
   "execution_count": 19,
   "metadata": {},
   "outputs": [
    {
     "data": {
      "image/png": "[encoded data removed]",
      "text/plain": [
       "<Figure size 1440x1080 with 9 Axes>"
      ]
     },
     "metadata": {},
     "output_type": "display_data"
    }
   ],
   "source": [
    "df.hist(bins=50, figsize=(20,15))\n",
    "plt.show()"
   ]
  },
  {
   "cell_type": "code",
   "execution_count": 20,
   "metadata": {},
   "outputs": [
    {
     "data": {
      "text/plain": [
       "0    4.0\n",
       "1    5.0\n",
       "2    5.0\n",
       "3    4.0\n",
       "4    5.0\n",
       "Name: Cost_cat, dtype: float64"
      ]
     },
     "execution_count": 20,
     "metadata": {},
     "output_type": "execute_result"
    }
   ],
   "source": [
    "df[\"Cost_cat\"] = np.ceil(df[\"Cost\"]/100000)\n",
    "df[\"Cost_cat\"].head()"
   ]
  },
  {
   "cell_type": "code",
   "execution_count": 21,
   "metadata": {},
   "outputs": [
    {
     "data": {
      "text/plain": [
       "Cost           1.000000\n",
       "Cost_cat       0.899741\n",
       "Tax            0.743555\n",
       "$/sqft         0.595969\n",
       "Bathrooms      0.470780\n",
       "sq ft          0.373144\n",
       "rooms          0.286437\n",
       "Bedrooms       0.285962\n",
       "Parking        0.209532\n",
       "Maintenance   -0.031223\n",
       "Name: Cost, dtype: float64"
      ]
     },
     "execution_count": 21,
     "metadata": {},
     "output_type": "execute_result"
    }
   ],
   "source": [
    "# let's check the correlation of the various attributes to the cost of house\n",
    "corr_matrix = df.corr()\n",
    "corr_matrix[\"Cost\"].sort_values(ascending=False)"
   ]
  },
  {
   "cell_type": "code",
   "execution_count": 22,
   "metadata": {},
   "outputs": [
    {
     "data": {
      "text/plain": [
       "array([[<matplotlib.axes._subplots.AxesSubplot object at 0x0000000012004898>,\n",
       "        <matplotlib.axes._subplots.AxesSubplot object at 0x00000000126C49B0>,\n",
       "        <matplotlib.axes._subplots.AxesSubplot object at 0x000000001563CC88>,\n",
       "        <matplotlib.axes._subplots.AxesSubplot object at 0x00000000156C5438>,\n",
       "        <matplotlib.axes._subplots.AxesSubplot object at 0x0000000015778BA8>],\n",
       "       [<matplotlib.axes._subplots.AxesSubplot object at 0x00000000157F7358>,\n",
       "        <matplotlib.axes._subplots.AxesSubplot object at 0x0000000015824A90>,\n",
       "        <matplotlib.axes._subplots.AxesSubplot object at 0x00000000158AB240>,\n",
       "        <matplotlib.axes._subplots.AxesSubplot object at 0x00000000159619B0>,\n",
       "        <matplotlib.axes._subplots.AxesSubplot object at 0x00000000159E5160>],\n",
       "       [<matplotlib.axes._subplots.AxesSubplot object at 0x0000000015A5B8D0>,\n",
       "        <matplotlib.axes._subplots.AxesSubplot object at 0x0000000015AE9080>,\n",
       "        <matplotlib.axes._subplots.AxesSubplot object at 0x0000000015B9E7F0>,\n",
       "        <matplotlib.axes._subplots.AxesSubplot object at 0x0000000015BD5F60>,\n",
       "        <matplotlib.axes._subplots.AxesSubplot object at 0x0000000015C9C710>],\n",
       "       [<matplotlib.axes._subplots.AxesSubplot object at 0x0000000015D53E80>,\n",
       "        <matplotlib.axes._subplots.AxesSubplot object at 0x0000000015D94630>,\n",
       "        <matplotlib.axes._subplots.AxesSubplot object at 0x0000000015DC8DA0>,\n",
       "        <matplotlib.axes._subplots.AxesSubplot object at 0x00000000162F8550>,\n",
       "        <matplotlib.axes._subplots.AxesSubplot object at 0x000000001636FCC0>],\n",
       "       [<matplotlib.axes._subplots.AxesSubplot object at 0x00000000163F0470>,\n",
       "        <matplotlib.axes._subplots.AxesSubplot object at 0x00000000164ABBE0>,\n",
       "        <matplotlib.axes._subplots.AxesSubplot object at 0x000000001652F390>,\n",
       "        <matplotlib.axes._subplots.AxesSubplot object at 0x00000000165A5B00>,\n",
       "        <matplotlib.axes._subplots.AxesSubplot object at 0x000000001662A2B0>]],\n",
       "      dtype=object)"
      ]
     },
     "execution_count": 22,
     "metadata": {},
     "output_type": "execute_result"
    },
    {
     "data": {
      "image/png": "[encoded data removed]",
      "text/plain": [
       "<Figure size 864x576 with 25 Axes>"
      ]
     },
     "metadata": {},
     "output_type": "display_data"
    }
   ],
   "source": [
    "from pandas.plotting import scatter_matrix\n",
    "attributes = [\"Cost\", \"Tax\", \"rooms\", \"sq ft\", \"Bathrooms\"]\n",
    "scatter_matrix(df[attributes], figsize=(12,8))"
   ]
  },
  {
   "cell_type": "code",
   "execution_count": 23,
   "metadata": {},
   "outputs": [],
   "source": [
    "#Some feature engineering could help create some more features that could contribute to the cost with a higher correlation\n",
    "\n",
    "df[\"avg_room_size\"] = df[\"sq ft\"]/df[\"rooms\"]\n",
    "df[\"maintenance_per_sqft\"] = df[\"Maintenance\"]/df[\"sq ft\"]\n",
    "df[\"bedroom_to_totalRoom_ratio\"] = df[\"Bedrooms\"]/df[\"rooms\"]\n",
    "df[\"bathroom_to_totalRoom_ratio\"] = df[\"Bathrooms\"]/df[\"rooms\"]"
   ]
  },
  {
   "cell_type": "code",
   "execution_count": 24,
   "metadata": {},
   "outputs": [
    {
     "data": {
      "text/plain": [
       "Cost                           1.000000\n",
       "Cost_cat                       0.899741\n",
       "Tax                            0.743555\n",
       "$/sqft                         0.595969\n",
       "Bathrooms                      0.470780\n",
       "sq ft                          0.373144\n",
       "bathroom_to_totalRoom_ratio    0.357990\n",
       "rooms                          0.286437\n",
       "Bedrooms                       0.285962\n",
       "Parking                        0.209532\n",
       "avg_room_size                  0.108915\n",
       "bedroom_to_totalRoom_ratio    -0.001162\n",
       "Maintenance                   -0.031223\n",
       "maintenance_per_sqft          -0.294345\n",
       "Name: Cost, dtype: float64"
      ]
     },
     "execution_count": 24,
     "metadata": {},
     "output_type": "execute_result"
    }
   ],
   "source": [
    "# let's check the correlation of the newly created attributes\n",
    "corr_matrix = df.corr()\n",
    "corr_matrix[\"Cost\"].sort_values(ascending=False)"
   ]
  },
  {
   "cell_type": "code",
   "execution_count": 25,
   "metadata": {},
   "outputs": [
    {
     "data": {
      "text/plain": [
       "array([[<matplotlib.axes._subplots.AxesSubplot object at 0x0000000016D85BE0>,\n",
       "        <matplotlib.axes._subplots.AxesSubplot object at 0x0000000016EB8358>,\n",
       "        <matplotlib.axes._subplots.AxesSubplot object at 0x00000000171B0AC8>,\n",
       "        <matplotlib.axes._subplots.AxesSubplot object at 0x0000000016F98278>,\n",
       "        <matplotlib.axes._subplots.AxesSubplot object at 0x00000000172209E8>],\n",
       "       [<matplotlib.axes._subplots.AxesSubplot object at 0x0000000017A59160>,\n",
       "        <matplotlib.axes._subplots.AxesSubplot object at 0x0000000017A8D8D0>,\n",
       "        <matplotlib.axes._subplots.AxesSubplot object at 0x0000000017B53080>,\n",
       "        <matplotlib.axes._subplots.AxesSubplot object at 0x0000000017C0B7F0>,\n",
       "        <matplotlib.axes._subplots.AxesSubplot object at 0x0000000017C3FF60>],\n",
       "       [<matplotlib.axes._subplots.AxesSubplot object at 0x0000000017D07710>,\n",
       "        <matplotlib.axes._subplots.AxesSubplot object at 0x0000000017D3CE80>,\n",
       "        <matplotlib.axes._subplots.AxesSubplot object at 0x0000000017E01630>,\n",
       "        <matplotlib.axes._subplots.AxesSubplot object at 0x0000000017EB9DA0>,\n",
       "        <matplotlib.axes._subplots.AxesSubplot object at 0x0000000017F7F550>],\n",
       "       [<matplotlib.axes._subplots.AxesSubplot object at 0x0000000018007CC0>,\n",
       "        <matplotlib.axes._subplots.AxesSubplot object at 0x000000001808C470>,\n",
       "        <matplotlib.axes._subplots.AxesSubplot object at 0x0000000018101BE0>,\n",
       "        <matplotlib.axes._subplots.AxesSubplot object at 0x00000000181C7390>,\n",
       "        <matplotlib.axes._subplots.AxesSubplot object at 0x00000000181FAB00>],\n",
       "       [<matplotlib.axes._subplots.AxesSubplot object at 0x00000000182802B0>,\n",
       "        <matplotlib.axes._subplots.AxesSubplot object at 0x0000000011952F28>,\n",
       "        <matplotlib.axes._subplots.AxesSubplot object at 0x000000000FF9DCC0>,\n",
       "        <matplotlib.axes._subplots.AxesSubplot object at 0x00000000153E6E80>,\n",
       "        <matplotlib.axes._subplots.AxesSubplot object at 0x0000000011E72240>]],\n",
       "      dtype=object)"
      ]
     },
     "execution_count": 25,
     "metadata": {},
     "output_type": "execute_result"
    },
    {
     "data": {
      "image/png": "[encoded data removed]",
      "text/plain": [
       "<Figure size 864x576 with 25 Axes>"
      ]
     },
     "metadata": {},
     "output_type": "display_data"
    }
   ],
   "source": [
    "from pandas.plotting import scatter_matrix\n",
    "attributes = [\"Cost\", \"House Type\", \"maintenance_per_sqft\", \"avg_room_size\", \"bedroom_to_totalRoom_ratio\", \"bathroom_to_totalRoom_ratio\"]\n",
    "scatter_matrix(df[attributes], figsize=(12,8))"
   ]
  },
  {
   "cell_type": "markdown",
   "metadata": {},
   "source": [
    "#### PREPARE DATA FOR MACHINE LEARNING"
   ]
  },
  {
   "cell_type": "code",
   "execution_count": 137,
   "metadata": {},
   "outputs": [],
   "source": [
    "#We can create custom Transformers using scikit learn, all you need to do is import BaseEstimator, and TransformerMixin\n",
    "#from sklearn.base:\n",
    "\n",
    "from sklearn.base import BaseEstimator, TransformerMixin\n",
    "from future_encoders import OneHotEncoder\n",
    "from scipy.sparse import hstack\n",
    "\n",
    "\n",
    "#rooms_ix, bedrooms_ix, population_ix, household_ix = 3,4,5,6\n",
    "\n",
    "class CategoryEncoder(BaseEstimator, TransformerMixin):\n",
    "    def __init__(self, is_series = False):\n",
    "        self.is_series = is_series\n",
    "    def fit(self, X, y=None):\n",
    "        return self\n",
    "    def transform(self, X):\n",
    "        encoder = OneHotEncoder(sparse=False)\n",
    "        first_iter = True\n",
    "        if self.is_series == False:\n",
    "            for i in X.columns:\n",
    "                if first_iter == True:\n",
    "                    X_i_1hot = encoder.fit_transform(X[i].reshape(-1,1))\n",
    "                else:\n",
    "                    X_i_1hot = hstack([X_i_1hot, encoder.fit_transform(X[i].reshape(-1,1))]).toarray()                                      \n",
    "            return X_i_1hot\n",
    "        else:\n",
    "            return encoder.fit_transform(X.reshape(-1,1))"
   ]
  },
  {
   "cell_type": "code",
   "execution_count": 126,
   "metadata": {},
   "outputs": [],
   "source": [
    "''' Old way of splitting using my own logic to create a split. This can however cause biases\n",
    "msk = np.random.rand(len(df)) < 0.8\n",
    "train = df[msk]\n",
    "test = df [~msk]\n",
    "\n",
    "\n",
    "'''\n",
    "#new way is to use a class from scikit learn called stratifiedsplit which will split while keeping distribution between the train\n",
    "#and test set the same accross a certain feature...in this case the Cost category of the house which is in 50K intervals\n",
    "\n",
    "df[\"Cost_cat\"] = np.ceil(df['Cost']/50000)\n",
    "\n",
    "from sklearn.model_selection import StratifiedShuffleSplit\n",
    "\n",
    "split = StratifiedShuffleSplit(n_splits=1, test_size=0.2, random_state=42)\n",
    "for train_index, test_index in split.split(df, df[\"Cost_cat\"]):\n",
    "    strat_train_set = df.loc[train_index]\n",
    "    strat_test_set = df.loc[test_index]"
   ]
  },
  {
   "cell_type": "code",
   "execution_count": 127,
   "metadata": {},
   "outputs": [
    {
     "name": "stdout",
     "output_type": "stream",
     "text": [
      "Test set\n",
      "9.0     0.393939\n",
      "10.0    0.212121\n",
      "8.0     0.181818\n",
      "12.0    0.121212\n",
      "11.0    0.060606\n",
      "7.0     0.030303\n",
      "Name: Cost_cat, dtype: float64\n",
      "##################################\n",
      "Train set\n",
      "9.0     0.375000\n",
      "10.0    0.203125\n",
      "8.0     0.195312\n",
      "12.0    0.125000\n",
      "11.0    0.070312\n",
      "7.0     0.031250\n",
      "Name: Cost_cat, dtype: float64\n"
     ]
    }
   ],
   "source": [
    "#checking to see the distribution of cost category between train and test sets\n",
    "print ('Test set')\n",
    "print strat_test_set[\"Cost_cat\"].value_counts()/len(strat_test_set)\n",
    "print ('##################################')\n",
    "print ('Train set')\n",
    "print strat_train_set[\"Cost_cat\"].value_counts()/len(strat_train_set)"
   ]
  },
  {
   "cell_type": "code",
   "execution_count": 128,
   "metadata": {},
   "outputs": [],
   "source": [
    "for set_ in (strat_train_set, strat_test_set, df):\n",
    "    set_.drop(\"Cost_cat\", axis=1, inplace=True)"
   ]
  },
  {
   "cell_type": "markdown",
   "metadata": {},
   "source": [
    "#### Create x and y matrices from train set"
   ]
  },
  {
   "cell_type": "code",
   "execution_count": 129,
   "metadata": {},
   "outputs": [],
   "source": [
    "X = strat_train_set.drop(\"Cost\", axis=1)\n",
    "y = strat_train_set[\"Cost\"].copy()"
   ]
  },
  {
   "cell_type": "code",
   "execution_count": 130,
   "metadata": {},
   "outputs": [],
   "source": [
    "#because the numerical and categorical columns need to be processed differently we split them\n",
    "#numerical gets processed using standard scaler, categorical gets processed using one hot encoder\n",
    "\n",
    "X_num = X.drop([\"Building/Neighbourhood\", \"House Type\"], axis = 1)\n",
    "X_cat = X.filter(['House Type', 'Building/Neighbourhood'], axis=1)"
   ]
  },
  {
   "cell_type": "code",
   "execution_count": 131,
   "metadata": {},
   "outputs": [],
   "source": [
    "#print X_num.columns\n",
    "#print X_cat.columns"
   ]
  },
  {
   "cell_type": "code",
   "execution_count": 132,
   "metadata": {},
   "outputs": [],
   "source": [
    "#to scale the numerical X use StandardScaler\n",
    "from sklearn.preprocessing import StandardScaler\n",
    "\n",
    "scaler = StandardScaler()\n",
    "\n",
    "X_num_prepared = scaler.fit_transform(X_num)"
   ]
  },
  {
   "cell_type": "code",
   "execution_count": 133,
   "metadata": {},
   "outputs": [
    {
     "data": {
      "text/plain": [
       "pandas.core.frame.DataFrame"
      ]
     },
     "execution_count": 133,
     "metadata": {},
     "output_type": "execute_result"
    }
   ],
   "source": [
    "type(X_cat)"
   ]
  },
  {
   "cell_type": "code",
   "execution_count": 140,
   "metadata": {},
   "outputs": [
    {
     "name": "stderr",
     "output_type": "stream",
     "text": [
      "c:\\python27\\lib\\site-packages\\ipykernel_launcher.py:22: FutureWarning: reshape is deprecated and will raise in a subsequent release. Please use .values.reshape(...) instead\n"
     ]
    },
    {
     "data": {
      "text/plain": [
       "array([[0., 0., 0., ..., 0., 0., 0.],\n",
       "       [0., 0., 0., ..., 0., 0., 0.],\n",
       "       [0., 0., 0., ..., 0., 0., 0.],\n",
       "       ...,\n",
       "       [0., 0., 0., ..., 0., 0., 0.],\n",
       "       [0., 0., 0., ..., 0., 0., 0.],\n",
       "       [0., 0., 0., ..., 0., 0., 0.]])"
      ]
     },
     "execution_count": 140,
     "metadata": {},
     "output_type": "execute_result"
    }
   ],
   "source": [
    "#to encode category for linear regression use a OneHotEncoder from a module from Aurelien Geron's github page\n",
    "\n",
    "cat_encoder = CategoryEncoder()\n",
    "X_cat_encoded = cat_encoder.fit_transform(X_cat, False)\n",
    "X_cat_encoded"
   ]
  },
  {
   "cell_type": "code",
   "execution_count": 139,
   "metadata": {},
   "outputs": [
    {
     "name": "stderr",
     "output_type": "stream",
     "text": [
      "c:\\python27\\lib\\site-packages\\ipykernel_launcher.py:22: FutureWarning: reshape is deprecated and will raise in a subsequent release. Please use .values.reshape(...) instead\n"
     ]
    }
   ],
   "source": [
    "#let's put it all together\n",
    "\n",
    "from sklearn.pipeline import Pipeline\n",
    "\n",
    "num_pipeline = Pipeline([('std_scaler', StandardScaler()),])\n",
    "cat_pipeline = Pipeline([('cat_encoder', CategoryEncoder()),])\n",
    "\n",
    "X_num_prepared = num_pipeline.fit_transform(X_num)\n",
    "X_cat_encoded = cat_pipeline.fit_transform(X_cat)"
   ]
  },
  {
   "cell_type": "code",
   "execution_count": null,
   "metadata": {},
   "outputs": [],
   "source": []
  }
 ],
 "metadata": {
  "kernelspec": {
   "display_name": "Python 3",
   "language": "python",
   "name": "python3"
  },
  "language_info": {
   "codemirror_mode": {
    "name": "ipython",
    "version": 3
   },
   "file_extension": ".py",
   "mimetype": "text/x-python",
   "name": "python",
   "nbconvert_exporter": "python",
   "pygments_lexer": "ipython3",
   "version": "3.6.5"
  }
 },
 "nbformat": 4,
 "nbformat_minor": 1
}
