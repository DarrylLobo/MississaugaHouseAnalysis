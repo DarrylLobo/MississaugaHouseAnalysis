{
 "cells": [
  {
   "cell_type": "code",
   "execution_count": 53,
   "metadata": {
    "collapsed": true
   },
   "outputs": [],
   "source": [
    "#data analysis\n",
    "import pandas as pd\n",
    "import numpy as np\n",
    "import random as rnd"
   ]
  },
  {
   "cell_type": "code",
   "execution_count": 101,
   "metadata": {
    "collapsed": false
   },
   "outputs": [],
   "source": [
    "#data visulaization\n",
    "#import seaborn as sns\n",
    "import matplotlib.pyplot as plt\n",
    "%matplotlib inline\n",
    "\n",
    "\n",
    "#machine learning\n",
    "from sklearn import linear_model\n",
    "from sklearn.linear_model import LogisticRegression\n",
    "from sklearn.svm import SVC, LinearSVC\n",
    "from sklearn.ensemble import RandomForestClassifier\n",
    "from sklearn.neighbors import KNeighborsClassifier\n",
    "from sklearn.naive_bayes import GaussianNB\n",
    "from sklearn.linear_model import Perceptron\n",
    "from sklearn.linear_model import SGDClassifier\n",
    "from sklearn.tree import DecisionTreeClassifier\n",
    "\n",
    "\n",
    "#sklearn accuracy libs\n",
    "from sklearn.metrics import mean_squared_error, r2_score"
   ]
  },
  {
   "cell_type": "code",
   "execution_count": 55,
   "metadata": {
    "collapsed": false
   },
   "outputs": [],
   "source": [
    "df = pd.read_csv('Training.csv')"
   ]
  },
  {
   "cell_type": "code",
   "execution_count": 56,
   "metadata": {
    "collapsed": false
   },
   "outputs": [
    {
     "data": {
      "text/plain": [
       "array(['House ID', 'House Type', 'Address', 'Address (city)', 'sq ft',\n",
       "       'rooms', 'Bathrooms', 'Bedrooms', 'Parking', 'Maintenance', 'Tax',\n",
       "       'Cost', '$/sqft', 'Sold/Listed (s/l)'], dtype=object)"
      ]
     },
     "execution_count": 56,
     "metadata": {},
     "output_type": "execute_result"
    }
   ],
   "source": [
    "df.columns.values"
   ]
  },
  {
   "cell_type": "code",
   "execution_count": 57,
   "metadata": {
    "collapsed": false
   },
   "outputs": [
    {
     "name": "stdout",
     "output_type": "stream",
     "text": [
      "<class 'pandas.core.frame.DataFrame'>\n",
      "RangeIndex: 86 entries, 0 to 85\n",
      "Data columns (total 14 columns):\n",
      "House ID             86 non-null int64\n",
      "House Type           86 non-null object\n",
      "Address              86 non-null object\n",
      "Address (city)       86 non-null object\n",
      "sq ft                86 non-null int64\n",
      "rooms                85 non-null float64\n",
      "Bathrooms            85 non-null float64\n",
      "Bedrooms             85 non-null float64\n",
      "Parking              85 non-null float64\n",
      "Maintenance          85 non-null object\n",
      "Tax                  83 non-null object\n",
      "Cost                 86 non-null object\n",
      "$/sqft               86 non-null object\n",
      "Sold/Listed (s/l)    85 non-null object\n",
      "dtypes: float64(4), int64(2), object(8)\n",
      "memory usage: 9.5+ KB\n"
     ]
    }
   ],
   "source": [
    "df.info()\n"
   ]
  },
  {
   "cell_type": "code",
   "execution_count": 58,
   "metadata": {
    "collapsed": false
   },
   "outputs": [],
   "source": [
    "# changing this columns from categories to FLoats\n",
    "\n",
    "df['Cost'] = df[df.columns[11:12]].replace('[\\$,]', '', regex=True).astype(float)\n",
    "df['$/sqft'] = df[df.columns[12:13]].replace('[\\$,]', '', regex=True).astype(float)\n",
    "df['Tax'] = df[df.columns[10:11]].replace('[\\$,]', '', regex=True).astype(float)\n",
    "df['Maintenance'] = df[df.columns[9:10]].replace('[\\$,]', '', regex=True).astype(float)\n"
   ]
  },
  {
   "cell_type": "code",
   "execution_count": 59,
   "metadata": {
    "collapsed": false
   },
   "outputs": [
    {
     "data": {
      "text/html": [
       "<div>\n",
       "<table border=\"1\" class=\"dataframe\">\n",
       "  <thead>\n",
       "    <tr style=\"text-align: right;\">\n",
       "      <th></th>\n",
       "      <th>House ID</th>\n",
       "      <th>sq ft</th>\n",
       "      <th>rooms</th>\n",
       "      <th>Bathrooms</th>\n",
       "      <th>Bedrooms</th>\n",
       "      <th>Parking</th>\n",
       "      <th>Maintenance</th>\n",
       "      <th>Tax</th>\n",
       "      <th>Cost</th>\n",
       "      <th>$/sqft</th>\n",
       "    </tr>\n",
       "  </thead>\n",
       "  <tbody>\n",
       "    <tr>\n",
       "      <th>count</th>\n",
       "      <td>86.000000</td>\n",
       "      <td>86.000000</td>\n",
       "      <td>85.000000</td>\n",
       "      <td>85.000000</td>\n",
       "      <td>85.000000</td>\n",
       "      <td>85.000000</td>\n",
       "      <td>85.000000</td>\n",
       "      <td>83.000000</td>\n",
       "      <td>86.000000</td>\n",
       "      <td>86.000000</td>\n",
       "    </tr>\n",
       "    <tr>\n",
       "      <th>mean</th>\n",
       "      <td>43.500000</td>\n",
       "      <td>1144.395349</td>\n",
       "      <td>6.152941</td>\n",
       "      <td>1.858824</td>\n",
       "      <td>2.058824</td>\n",
       "      <td>2.000000</td>\n",
       "      <td>714.159882</td>\n",
       "      <td>2176.478072</td>\n",
       "      <td>437245.616279</td>\n",
       "      <td>386.729884</td>\n",
       "    </tr>\n",
       "    <tr>\n",
       "      <th>std</th>\n",
       "      <td>24.969982</td>\n",
       "      <td>143.594714</td>\n",
       "      <td>0.879744</td>\n",
       "      <td>0.491667</td>\n",
       "      <td>0.236691</td>\n",
       "      <td>0.408248</td>\n",
       "      <td>150.065590</td>\n",
       "      <td>363.550474</td>\n",
       "      <td>52515.348904</td>\n",
       "      <td>59.200676</td>\n",
       "    </tr>\n",
       "    <tr>\n",
       "      <th>min</th>\n",
       "      <td>1.000000</td>\n",
       "      <td>850.000000</td>\n",
       "      <td>5.000000</td>\n",
       "      <td>1.000000</td>\n",
       "      <td>2.000000</td>\n",
       "      <td>0.000000</td>\n",
       "      <td>133.000000</td>\n",
       "      <td>1650.000000</td>\n",
       "      <td>355000.000000</td>\n",
       "      <td>273.080000</td>\n",
       "    </tr>\n",
       "    <tr>\n",
       "      <th>25%</th>\n",
       "      <td>22.250000</td>\n",
       "      <td>1100.000000</td>\n",
       "      <td>6.000000</td>\n",
       "      <td>2.000000</td>\n",
       "      <td>2.000000</td>\n",
       "      <td>2.000000</td>\n",
       "      <td>634.870000</td>\n",
       "      <td>1897.330000</td>\n",
       "      <td>399225.000000</td>\n",
       "      <td>343.167500</td>\n",
       "    </tr>\n",
       "    <tr>\n",
       "      <th>50%</th>\n",
       "      <td>43.500000</td>\n",
       "      <td>1100.000000</td>\n",
       "      <td>6.000000</td>\n",
       "      <td>2.000000</td>\n",
       "      <td>2.000000</td>\n",
       "      <td>2.000000</td>\n",
       "      <td>729.650000</td>\n",
       "      <td>2146.000000</td>\n",
       "      <td>429900.000000</td>\n",
       "      <td>385.810000</td>\n",
       "    </tr>\n",
       "    <tr>\n",
       "      <th>75%</th>\n",
       "      <td>64.750000</td>\n",
       "      <td>1300.000000</td>\n",
       "      <td>6.000000</td>\n",
       "      <td>2.000000</td>\n",
       "      <td>2.000000</td>\n",
       "      <td>2.000000</td>\n",
       "      <td>810.470000</td>\n",
       "      <td>2304.025000</td>\n",
       "      <td>465675.000000</td>\n",
       "      <td>420.310000</td>\n",
       "    </tr>\n",
       "    <tr>\n",
       "      <th>max</th>\n",
       "      <td>86.000000</td>\n",
       "      <td>1500.000000</td>\n",
       "      <td>10.000000</td>\n",
       "      <td>4.000000</td>\n",
       "      <td>3.000000</td>\n",
       "      <td>3.000000</td>\n",
       "      <td>1021.750000</td>\n",
       "      <td>3418.730000</td>\n",
       "      <td>599999.000000</td>\n",
       "      <td>588.120000</td>\n",
       "    </tr>\n",
       "  </tbody>\n",
       "</table>\n",
       "</div>"
      ],
      "text/plain": [
       "        House ID        sq ft      rooms  Bathrooms   Bedrooms    Parking  \\\n",
       "count  86.000000    86.000000  85.000000  85.000000  85.000000  85.000000   \n",
       "mean   43.500000  1144.395349   6.152941   1.858824   2.058824   2.000000   \n",
       "std    24.969982   143.594714   0.879744   0.491667   0.236691   0.408248   \n",
       "min     1.000000   850.000000   5.000000   1.000000   2.000000   0.000000   \n",
       "25%    22.250000  1100.000000   6.000000   2.000000   2.000000   2.000000   \n",
       "50%    43.500000  1100.000000   6.000000   2.000000   2.000000   2.000000   \n",
       "75%    64.750000  1300.000000   6.000000   2.000000   2.000000   2.000000   \n",
       "max    86.000000  1500.000000  10.000000   4.000000   3.000000   3.000000   \n",
       "\n",
       "       Maintenance          Tax           Cost      $/sqft  \n",
       "count    85.000000    83.000000      86.000000   86.000000  \n",
       "mean    714.159882  2176.478072  437245.616279  386.729884  \n",
       "std     150.065590   363.550474   52515.348904   59.200676  \n",
       "min     133.000000  1650.000000  355000.000000  273.080000  \n",
       "25%     634.870000  1897.330000  399225.000000  343.167500  \n",
       "50%     729.650000  2146.000000  429900.000000  385.810000  \n",
       "75%     810.470000  2304.025000  465675.000000  420.310000  \n",
       "max    1021.750000  3418.730000  599999.000000  588.120000  "
      ]
     },
     "execution_count": 59,
     "metadata": {},
     "output_type": "execute_result"
    }
   ],
   "source": [
    "df.describe()"
   ]
  },
  {
   "cell_type": "code",
   "execution_count": 60,
   "metadata": {
    "collapsed": false
   },
   "outputs": [
    {
     "data": {
      "text/html": [
       "<div>\n",
       "<table border=\"1\" class=\"dataframe\">\n",
       "  <thead>\n",
       "    <tr style=\"text-align: right;\">\n",
       "      <th></th>\n",
       "      <th>sq ft</th>\n",
       "      <th>Cost</th>\n",
       "    </tr>\n",
       "  </thead>\n",
       "  <tbody>\n",
       "    <tr>\n",
       "      <th>10</th>\n",
       "      <td>1500</td>\n",
       "      <td>521500.000000</td>\n",
       "    </tr>\n",
       "    <tr>\n",
       "      <th>9</th>\n",
       "      <td>1400</td>\n",
       "      <td>480000.000000</td>\n",
       "    </tr>\n",
       "    <tr>\n",
       "      <th>5</th>\n",
       "      <td>1223</td>\n",
       "      <td>469900.000000</td>\n",
       "    </tr>\n",
       "    <tr>\n",
       "      <th>0</th>\n",
       "      <td>850</td>\n",
       "      <td>456600.000000</td>\n",
       "    </tr>\n",
       "    <tr>\n",
       "      <th>8</th>\n",
       "      <td>1395</td>\n",
       "      <td>448000.000000</td>\n",
       "    </tr>\n",
       "    <tr>\n",
       "      <th>7</th>\n",
       "      <td>1300</td>\n",
       "      <td>446131.727273</td>\n",
       "    </tr>\n",
       "    <tr>\n",
       "      <th>4</th>\n",
       "      <td>1200</td>\n",
       "      <td>435949.750000</td>\n",
       "    </tr>\n",
       "    <tr>\n",
       "      <th>3</th>\n",
       "      <td>1100</td>\n",
       "      <td>435290.736842</td>\n",
       "    </tr>\n",
       "    <tr>\n",
       "      <th>2</th>\n",
       "      <td>1000</td>\n",
       "      <td>435000.000000</td>\n",
       "    </tr>\n",
       "    <tr>\n",
       "      <th>6</th>\n",
       "      <td>1250</td>\n",
       "      <td>419900.000000</td>\n",
       "    </tr>\n",
       "    <tr>\n",
       "      <th>1</th>\n",
       "      <td>950</td>\n",
       "      <td>403148.166667</td>\n",
       "    </tr>\n",
       "  </tbody>\n",
       "</table>\n",
       "</div>"
      ],
      "text/plain": [
       "    sq ft           Cost\n",
       "10   1500  521500.000000\n",
       "9    1400  480000.000000\n",
       "5    1223  469900.000000\n",
       "0     850  456600.000000\n",
       "8    1395  448000.000000\n",
       "7    1300  446131.727273\n",
       "4    1200  435949.750000\n",
       "3    1100  435290.736842\n",
       "2    1000  435000.000000\n",
       "6    1250  419900.000000\n",
       "1     950  403148.166667"
      ]
     },
     "execution_count": 60,
     "metadata": {},
     "output_type": "execute_result"
    }
   ],
   "source": [
    "df[['sq ft', 'Cost']].groupby(['sq ft'], as_index=False).mean().sort_values(by='Cost', ascending=False)"
   ]
  },
  {
   "cell_type": "code",
   "execution_count": 61,
   "metadata": {
    "collapsed": false
   },
   "outputs": [
    {
     "data": {
      "text/html": [
       "<div>\n",
       "<table border=\"1\" class=\"dataframe\">\n",
       "  <thead>\n",
       "    <tr style=\"text-align: right;\">\n",
       "      <th></th>\n",
       "      <th>rooms</th>\n",
       "      <th>Cost</th>\n",
       "    </tr>\n",
       "  </thead>\n",
       "  <tbody>\n",
       "    <tr>\n",
       "      <th>5</th>\n",
       "      <td>10.0</td>\n",
       "      <td>529900.000000</td>\n",
       "    </tr>\n",
       "    <tr>\n",
       "      <th>4</th>\n",
       "      <td>9.0</td>\n",
       "      <td>524900.000000</td>\n",
       "    </tr>\n",
       "    <tr>\n",
       "      <th>3</th>\n",
       "      <td>8.0</td>\n",
       "      <td>512966.333333</td>\n",
       "    </tr>\n",
       "    <tr>\n",
       "      <th>2</th>\n",
       "      <td>7.0</td>\n",
       "      <td>436950.000000</td>\n",
       "    </tr>\n",
       "    <tr>\n",
       "      <th>1</th>\n",
       "      <td>6.0</td>\n",
       "      <td>429309.915254</td>\n",
       "    </tr>\n",
       "    <tr>\n",
       "      <th>0</th>\n",
       "      <td>5.0</td>\n",
       "      <td>420803.333333</td>\n",
       "    </tr>\n",
       "  </tbody>\n",
       "</table>\n",
       "</div>"
      ],
      "text/plain": [
       "   rooms           Cost\n",
       "5   10.0  529900.000000\n",
       "4    9.0  524900.000000\n",
       "3    8.0  512966.333333\n",
       "2    7.0  436950.000000\n",
       "1    6.0  429309.915254\n",
       "0    5.0  420803.333333"
      ]
     },
     "execution_count": 61,
     "metadata": {},
     "output_type": "execute_result"
    }
   ],
   "source": [
    "df[['rooms', 'Cost']].groupby(['rooms'], as_index=False).mean().sort_values(by='Cost', ascending=False)"
   ]
  },
  {
   "cell_type": "code",
   "execution_count": 62,
   "metadata": {
    "collapsed": false
   },
   "outputs": [
    {
     "data": {
      "text/html": [
       "<div>\n",
       "<table border=\"1\" class=\"dataframe\">\n",
       "  <thead>\n",
       "    <tr style=\"text-align: right;\">\n",
       "      <th></th>\n",
       "      <th>Bathrooms</th>\n",
       "      <th>Cost</th>\n",
       "    </tr>\n",
       "  </thead>\n",
       "  <tbody>\n",
       "    <tr>\n",
       "      <th>2</th>\n",
       "      <td>3.0</td>\n",
       "      <td>562449.500000</td>\n",
       "    </tr>\n",
       "    <tr>\n",
       "      <th>3</th>\n",
       "      <td>4.0</td>\n",
       "      <td>549900.000000</td>\n",
       "    </tr>\n",
       "    <tr>\n",
       "      <th>1</th>\n",
       "      <td>2.0</td>\n",
       "      <td>437957.515152</td>\n",
       "    </tr>\n",
       "    <tr>\n",
       "      <th>0</th>\n",
       "      <td>1.0</td>\n",
       "      <td>409576.750000</td>\n",
       "    </tr>\n",
       "  </tbody>\n",
       "</table>\n",
       "</div>"
      ],
      "text/plain": [
       "   Bathrooms           Cost\n",
       "2        3.0  562449.500000\n",
       "3        4.0  549900.000000\n",
       "1        2.0  437957.515152\n",
       "0        1.0  409576.750000"
      ]
     },
     "execution_count": 62,
     "metadata": {},
     "output_type": "execute_result"
    }
   ],
   "source": [
    "df[['Bathrooms', 'Cost']].groupby(['Bathrooms'], as_index=False).mean().sort_values(by='Cost', ascending=False)"
   ]
  },
  {
   "cell_type": "code",
   "execution_count": 63,
   "metadata": {
    "collapsed": false
   },
   "outputs": [],
   "source": [
    "df = df.drop(['Address', 'Address (city)', 'Sold/Listed (s/l)'], axis=1)"
   ]
  },
  {
   "cell_type": "code",
   "execution_count": 64,
   "metadata": {
    "collapsed": false
   },
   "outputs": [
    {
     "data": {
      "text/html": [
       "<div>\n",
       "<table border=\"1\" class=\"dataframe\">\n",
       "  <thead>\n",
       "    <tr style=\"text-align: right;\">\n",
       "      <th></th>\n",
       "      <th>House ID</th>\n",
       "      <th>sq ft</th>\n",
       "      <th>rooms</th>\n",
       "      <th>Bathrooms</th>\n",
       "      <th>Bedrooms</th>\n",
       "      <th>Parking</th>\n",
       "      <th>Maintenance</th>\n",
       "      <th>Tax</th>\n",
       "      <th>Cost</th>\n",
       "      <th>$/sqft</th>\n",
       "    </tr>\n",
       "  </thead>\n",
       "  <tbody>\n",
       "    <tr>\n",
       "      <th>count</th>\n",
       "      <td>86.000000</td>\n",
       "      <td>86.000000</td>\n",
       "      <td>85.000000</td>\n",
       "      <td>85.000000</td>\n",
       "      <td>85.000000</td>\n",
       "      <td>85.000000</td>\n",
       "      <td>85.000000</td>\n",
       "      <td>83.000000</td>\n",
       "      <td>86.000000</td>\n",
       "      <td>86.000000</td>\n",
       "    </tr>\n",
       "    <tr>\n",
       "      <th>mean</th>\n",
       "      <td>43.500000</td>\n",
       "      <td>1144.395349</td>\n",
       "      <td>6.152941</td>\n",
       "      <td>1.858824</td>\n",
       "      <td>2.058824</td>\n",
       "      <td>2.000000</td>\n",
       "      <td>714.159882</td>\n",
       "      <td>2176.478072</td>\n",
       "      <td>437245.616279</td>\n",
       "      <td>386.729884</td>\n",
       "    </tr>\n",
       "    <tr>\n",
       "      <th>std</th>\n",
       "      <td>24.969982</td>\n",
       "      <td>143.594714</td>\n",
       "      <td>0.879744</td>\n",
       "      <td>0.491667</td>\n",
       "      <td>0.236691</td>\n",
       "      <td>0.408248</td>\n",
       "      <td>150.065590</td>\n",
       "      <td>363.550474</td>\n",
       "      <td>52515.348904</td>\n",
       "      <td>59.200676</td>\n",
       "    </tr>\n",
       "    <tr>\n",
       "      <th>min</th>\n",
       "      <td>1.000000</td>\n",
       "      <td>850.000000</td>\n",
       "      <td>5.000000</td>\n",
       "      <td>1.000000</td>\n",
       "      <td>2.000000</td>\n",
       "      <td>0.000000</td>\n",
       "      <td>133.000000</td>\n",
       "      <td>1650.000000</td>\n",
       "      <td>355000.000000</td>\n",
       "      <td>273.080000</td>\n",
       "    </tr>\n",
       "    <tr>\n",
       "      <th>25%</th>\n",
       "      <td>22.250000</td>\n",
       "      <td>1100.000000</td>\n",
       "      <td>6.000000</td>\n",
       "      <td>2.000000</td>\n",
       "      <td>2.000000</td>\n",
       "      <td>2.000000</td>\n",
       "      <td>634.870000</td>\n",
       "      <td>1897.330000</td>\n",
       "      <td>399225.000000</td>\n",
       "      <td>343.167500</td>\n",
       "    </tr>\n",
       "    <tr>\n",
       "      <th>50%</th>\n",
       "      <td>43.500000</td>\n",
       "      <td>1100.000000</td>\n",
       "      <td>6.000000</td>\n",
       "      <td>2.000000</td>\n",
       "      <td>2.000000</td>\n",
       "      <td>2.000000</td>\n",
       "      <td>729.650000</td>\n",
       "      <td>2146.000000</td>\n",
       "      <td>429900.000000</td>\n",
       "      <td>385.810000</td>\n",
       "    </tr>\n",
       "    <tr>\n",
       "      <th>75%</th>\n",
       "      <td>64.750000</td>\n",
       "      <td>1300.000000</td>\n",
       "      <td>6.000000</td>\n",
       "      <td>2.000000</td>\n",
       "      <td>2.000000</td>\n",
       "      <td>2.000000</td>\n",
       "      <td>810.470000</td>\n",
       "      <td>2304.025000</td>\n",
       "      <td>465675.000000</td>\n",
       "      <td>420.310000</td>\n",
       "    </tr>\n",
       "    <tr>\n",
       "      <th>max</th>\n",
       "      <td>86.000000</td>\n",
       "      <td>1500.000000</td>\n",
       "      <td>10.000000</td>\n",
       "      <td>4.000000</td>\n",
       "      <td>3.000000</td>\n",
       "      <td>3.000000</td>\n",
       "      <td>1021.750000</td>\n",
       "      <td>3418.730000</td>\n",
       "      <td>599999.000000</td>\n",
       "      <td>588.120000</td>\n",
       "    </tr>\n",
       "  </tbody>\n",
       "</table>\n",
       "</div>"
      ],
      "text/plain": [
       "        House ID        sq ft      rooms  Bathrooms   Bedrooms    Parking  \\\n",
       "count  86.000000    86.000000  85.000000  85.000000  85.000000  85.000000   \n",
       "mean   43.500000  1144.395349   6.152941   1.858824   2.058824   2.000000   \n",
       "std    24.969982   143.594714   0.879744   0.491667   0.236691   0.408248   \n",
       "min     1.000000   850.000000   5.000000   1.000000   2.000000   0.000000   \n",
       "25%    22.250000  1100.000000   6.000000   2.000000   2.000000   2.000000   \n",
       "50%    43.500000  1100.000000   6.000000   2.000000   2.000000   2.000000   \n",
       "75%    64.750000  1300.000000   6.000000   2.000000   2.000000   2.000000   \n",
       "max    86.000000  1500.000000  10.000000   4.000000   3.000000   3.000000   \n",
       "\n",
       "       Maintenance          Tax           Cost      $/sqft  \n",
       "count    85.000000    83.000000      86.000000   86.000000  \n",
       "mean    714.159882  2176.478072  437245.616279  386.729884  \n",
       "std     150.065590   363.550474   52515.348904   59.200676  \n",
       "min     133.000000  1650.000000  355000.000000  273.080000  \n",
       "25%     634.870000  1897.330000  399225.000000  343.167500  \n",
       "50%     729.650000  2146.000000  429900.000000  385.810000  \n",
       "75%     810.470000  2304.025000  465675.000000  420.310000  \n",
       "max    1021.750000  3418.730000  599999.000000  588.120000  "
      ]
     },
     "execution_count": 64,
     "metadata": {},
     "output_type": "execute_result"
    }
   ],
   "source": [
    "df.describe()"
   ]
  },
  {
   "cell_type": "code",
   "execution_count": 65,
   "metadata": {
    "collapsed": false
   },
   "outputs": [
    {
     "data": {
      "text/html": [
       "<div>\n",
       "<table border=\"1\" class=\"dataframe\">\n",
       "  <thead>\n",
       "    <tr style=\"text-align: right;\">\n",
       "      <th></th>\n",
       "      <th>House Type</th>\n",
       "    </tr>\n",
       "  </thead>\n",
       "  <tbody>\n",
       "    <tr>\n",
       "      <th>count</th>\n",
       "      <td>86</td>\n",
       "    </tr>\n",
       "    <tr>\n",
       "      <th>unique</th>\n",
       "      <td>3</td>\n",
       "    </tr>\n",
       "    <tr>\n",
       "      <th>top</th>\n",
       "      <td>Condo</td>\n",
       "    </tr>\n",
       "    <tr>\n",
       "      <th>freq</th>\n",
       "      <td>57</td>\n",
       "    </tr>\n",
       "  </tbody>\n",
       "</table>\n",
       "</div>"
      ],
      "text/plain": [
       "       House Type\n",
       "count          86\n",
       "unique          3\n",
       "top         Condo\n",
       "freq           57"
      ]
     },
     "execution_count": 65,
     "metadata": {},
     "output_type": "execute_result"
    }
   ],
   "source": [
    "df.describe(include=['O'])"
   ]
  },
  {
   "cell_type": "code",
   "execution_count": 79,
   "metadata": {
    "collapsed": false
   },
   "outputs": [
    {
     "data": {
      "text/html": [
       "<div>\n",
       "<table border=\"1\" class=\"dataframe\">\n",
       "  <thead>\n",
       "    <tr style=\"text-align: right;\">\n",
       "      <th></th>\n",
       "      <th>House ID</th>\n",
       "      <th>House Type</th>\n",
       "      <th>sq ft</th>\n",
       "      <th>rooms</th>\n",
       "      <th>Bathrooms</th>\n",
       "      <th>Bedrooms</th>\n",
       "      <th>Parking</th>\n",
       "      <th>Maintenance</th>\n",
       "      <th>Tax</th>\n",
       "      <th>Cost</th>\n",
       "      <th>$/sqft</th>\n",
       "    </tr>\n",
       "  </thead>\n",
       "  <tbody>\n",
       "    <tr>\n",
       "      <th>12</th>\n",
       "      <td>13</td>\n",
       "      <td>Apartment</td>\n",
       "      <td>1400</td>\n",
       "      <td>7.0</td>\n",
       "      <td>2.0</td>\n",
       "      <td>2.0</td>\n",
       "      <td>2.0</td>\n",
       "      <td>816.0</td>\n",
       "      <td>NaN</td>\n",
       "      <td>480000.0</td>\n",
       "      <td>342.86</td>\n",
       "    </tr>\n",
       "  </tbody>\n",
       "</table>\n",
       "</div>"
      ],
      "text/plain": [
       "    House ID House Type  sq ft  rooms  Bathrooms  Bedrooms  Parking  \\\n",
       "12        13  Apartment   1400    7.0        2.0       2.0      2.0   \n",
       "\n",
       "    Maintenance  Tax      Cost  $/sqft  \n",
       "12        816.0  NaN  480000.0  342.86  "
      ]
     },
     "execution_count": 79,
     "metadata": {},
     "output_type": "execute_result"
    }
   ],
   "source": [
    "all_null_rows = df[df['Tax'].isnull()]\n",
    "all_null_rows"
   ]
  },
  {
   "cell_type": "code",
   "execution_count": 80,
   "metadata": {
    "collapsed": false
   },
   "outputs": [],
   "source": [
    "tax_guess = df[(df['$/sqft'] >= 340.00) & (df['$/sqft'] < 345.00)]['Tax'].dropna()"
   ]
  },
  {
   "cell_type": "code",
   "execution_count": 81,
   "metadata": {
    "collapsed": false
   },
   "outputs": [
    {
     "data": {
      "text/plain": [
       "61    1766.00\n",
       "64    1819.78\n",
       "Name: Tax, dtype: float64"
      ]
     },
     "execution_count": 81,
     "metadata": {},
     "output_type": "execute_result"
    }
   ],
   "source": [
    "tax_guess"
   ]
  },
  {
   "cell_type": "code",
   "execution_count": 82,
   "metadata": {
    "collapsed": false
   },
   "outputs": [
    {
     "name": "stderr",
     "output_type": "stream",
     "text": [
      "C:\\Users\\Darryl\\Anaconda2\\lib\\site-packages\\ipykernel\\__main__.py:1: SettingWithCopyWarning: \n",
      "A value is trying to be set on a copy of a slice from a DataFrame\n",
      "\n",
      "See the caveats in the documentation: http://pandas.pydata.org/pandas-docs/stable/indexing.html#indexing-view-versus-copy\n",
      "  if __name__ == '__main__':\n"
     ]
    }
   ],
   "source": [
    "df['Tax'][12] = tax_guess.mean()"
   ]
  },
  {
   "cell_type": "code",
   "execution_count": 83,
   "metadata": {
    "collapsed": false
   },
   "outputs": [],
   "source": [
    "#df['House Type'].drop_duplicates()\n",
    "df['House Type'] = df['House Type'].map({'Apartment': 0, 'Condo/Town': 1, 'Condo': 2}).astype(int)"
   ]
  },
  {
   "cell_type": "markdown",
   "metadata": {},
   "source": [
    "## Now that we have are data all ready and in numerical format, let's run regression"
   ]
  },
  {
   "cell_type": "code",
   "execution_count": 84,
   "metadata": {
    "collapsed": false
   },
   "outputs": [],
   "source": [
    "msk = np.random.rand(len(df)) < 0.8\n",
    "train = df[msk]\n",
    "test = df [~msk]"
   ]
  },
  {
   "cell_type": "code",
   "execution_count": 89,
   "metadata": {
    "collapsed": false
   },
   "outputs": [],
   "source": [
    "train[train.isnull().any(axis=1)]\n",
    "#this piece of code finds rows containing NaN in any of the columns\n",
    "# identified there is a row so will remove it\n",
    "\n",
    "train = train.dropna(axis=0, how='any')"
   ]
  },
  {
   "cell_type": "markdown",
   "metadata": {},
   "source": [
    "## Use certain features and play around to find out which contribute to a better score...more features sued however means over fitting could occur"
   ]
  },
  {
   "cell_type": "code",
   "execution_count": 113,
   "metadata": {
    "collapsed": false
   },
   "outputs": [],
   "source": [
    "train_y = train['Cost']\n",
    "test_y = test['Cost']\n",
    "train_x = train[['House Type', 'sq ft', 'rooms', 'Bathrooms', 'Bedrooms', 'Parking', 'Maintenance', 'Tax']]\n",
    "test_x = test[['House Type', 'sq ft', 'rooms', 'Bathrooms', 'Bedrooms', 'Parking', 'Maintenance', 'Tax']]\n",
    "train_x_noTaxandMaint = train[['House Type', 'sq ft', 'rooms', 'Bathrooms', 'Bedrooms', 'Parking']]\n",
    "test_x_noTaxandMaint = test[['House Type', 'sq ft', 'rooms', 'Bathrooms', 'Bedrooms', 'Parking']]\n",
    "train_x_noHouseType = train[['sq ft', 'rooms', 'Bathrooms', 'Bedrooms', 'Parking', 'Maintenance', 'Tax']]\n",
    "test_x_noHouseType = test[['sq ft', 'rooms', 'Bathrooms', 'Bedrooms', 'Parking', 'Maintenance', 'Tax']]\n",
    "train_x_sqft_rooms = train[['sq ft', 'rooms']]\n",
    "test_x_sqft_rooms = test[['sq ft', 'rooms']]"
   ]
  },
  {
   "cell_type": "code",
   "execution_count": 96,
   "metadata": {
    "collapsed": false
   },
   "outputs": [
    {
     "data": {
      "text/plain": [
       "45.07"
      ]
     },
     "execution_count": 96,
     "metadata": {},
     "output_type": "execute_result"
    }
   ],
   "source": [
    "# Log regression model used\n",
    "logreg = LogisticRegression()\n",
    "logreg.fit(train_x, train_y)\n",
    "Y_pred = logreg.predict(test_x)\n",
    "acc_log = round(logreg.score(train_x, train_y) * 100, 2)\n",
    "acc_log"
   ]
  },
  {
   "cell_type": "code",
   "execution_count": 107,
   "metadata": {
    "collapsed": false
   },
   "outputs": [
    {
     "name": "stdout",
     "output_type": "stream",
     "text": [
      "('Coefficients: \\n', array([ -1.21464819e+01,   8.63297246e+03,   5.80326855e+03,\n",
      "         2.06203968e+04,   1.19603668e+04,  -6.64404791e+01,\n",
      "         8.45992881e+01]))\n",
      "Mean squared error: 1798973165.55\n",
      "Variance score: 0.40\n"
     ]
    }
   ],
   "source": [
    "# Linear regression model used\n",
    "regr = linear_model.LinearRegression()\n",
    "regr.fit(train_x_noHouseType, train_y)\n",
    "test_pred_y = regr.predict(test_x_noHouseType)\n",
    "print('Coefficients: \\n', regr.coef_)\n",
    "# The mean squared error\n",
    "print(\"Mean squared error: %.2f\"\n",
    "      % mean_squared_error(test_y, test_pred_y))\n",
    "# Explained variance score: 1 is perfect prediction\n",
    "print('Variance score: %.2f' % r2_score(test_y, test_pred_y))"
   ]
  },
  {
   "cell_type": "code",
   "execution_count": 114,
   "metadata": {
    "collapsed": false
   },
   "outputs": [
    {
     "name": "stdout",
     "output_type": "stream",
     "text": [
      "('Coefficients: \\n', array([  1.58476859e+01,  -2.17551799e+03,   1.67335107e+04,\n",
      "         1.11700133e+05,   9.56241250e+02]))\n",
      "Mean squared error: 3017349660.76\n",
      "Variance score: -0.00\n"
     ]
    }
   ],
   "source": [
    "#Linear regression used with only sq ft and rooms feature\n",
    "\n",
    "regr_simple = linear_model.LinearRegression()\n",
    "regr_simple.fit(train_x_sqft_rooms, train_y)\n",
    "test_pred_y_simple = regr_simple.predict(test_x_sqft_rooms)\n",
    "print('Coefficients: \\n', regr_simple.coef_)\n",
    "# The mean squared error\n",
    "print(\"Mean squared error: %.2f\"\n",
    "      % mean_squared_error(test_y, test_pred_y_simple))\n",
    "# Explained variance score: 1 is perfect prediction\n",
    "print('Variance score: %.2f' % r2_score(test_y, test_pred_y_simple))"
   ]
  },
  {
   "cell_type": "code",
   "execution_count": null,
   "metadata": {
    "collapsed": true
   },
   "outputs": [],
   "source": []
  }
 ],
 "metadata": {
  "kernelspec": {
   "display_name": "Python 2",
   "language": "python",
   "name": "python2"
  },
  "language_info": {
   "codemirror_mode": {
    "name": "ipython",
    "version": 2
   },
   "file_extension": ".py",
   "mimetype": "text/x-python",
   "name": "python",
   "nbconvert_exporter": "python",
   "pygments_lexer": "ipython2",
   "version": "2.7.11"
  }
 },
 "nbformat": 4,
 "nbformat_minor": 0
}
